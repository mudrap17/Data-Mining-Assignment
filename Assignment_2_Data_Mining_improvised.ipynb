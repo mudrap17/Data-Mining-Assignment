{
  "cells": [
    {
      "cell_type": "markdown",
      "metadata": {
        "id": "view-in-github",
        "colab_type": "text"
      },
      "source": [
        "<a href=\"https://colab.research.google.com/github/mudrap17/Data-Mining-Assignment/blob/main/Assignment_2_Data_Mining_improvised.ipynb\" target=\"_parent\"><img src=\"https://colab.research.google.com/assets/colab-badge.svg\" alt=\"Open In Colab\"/></a>"
      ]
    },
    {
      "cell_type": "code",
      "execution_count": 1,
      "id": "5c112039",
      "metadata": {
        "id": "5c112039"
      },
      "outputs": [],
      "source": [
        "import numpy as np\n",
        "import matplotlib.pyplot as plt\n",
        "import pandas as pd"
      ]
    },
    {
      "cell_type": "code",
      "execution_count": 5,
      "id": "692a2742",
      "metadata": {
        "colab": {
          "base_uri": "https://localhost:8080/",
          "height": 204
        },
        "id": "692a2742",
        "outputId": "0e17fabf-4a17-4b10-e025-8371434cc4fe"
      },
      "outputs": [
        {
          "output_type": "execute_result",
          "data": {
            "text/plain": [
              "   Unnamed: 0  Sentence_id                                       New_Sentence  \\\n",
              "0           0  GERRES15609  Author and/or Review architecture/design and o...   \n",
              "1           1  PHERES15784  Should be able to develop custom dynamic shape...   \n",
              "2           2  GERREQ10457  Experience in working crosslly with a  larger ...   \n",
              "3           3  GERSKL27235  Previous business experience, including but no...   \n",
              "4           4  HONSSK18415         Delivering fast and right the first  time.   \n",
              "\n",
              "             Type  \n",
              "0  Responsibility  \n",
              "1  Responsibility  \n",
              "2     Requirement  \n",
              "3           Skill  \n",
              "4       SoftSkill  "
            ],
            "text/html": [
              "\n",
              "  <div id=\"df-8d10c922-61b5-495e-ab65-6312a907fae8\">\n",
              "    <div class=\"colab-df-container\">\n",
              "      <div>\n",
              "<style scoped>\n",
              "    .dataframe tbody tr th:only-of-type {\n",
              "        vertical-align: middle;\n",
              "    }\n",
              "\n",
              "    .dataframe tbody tr th {\n",
              "        vertical-align: top;\n",
              "    }\n",
              "\n",
              "    .dataframe thead th {\n",
              "        text-align: right;\n",
              "    }\n",
              "</style>\n",
              "<table border=\"1\" class=\"dataframe\">\n",
              "  <thead>\n",
              "    <tr style=\"text-align: right;\">\n",
              "      <th></th>\n",
              "      <th>Unnamed: 0</th>\n",
              "      <th>Sentence_id</th>\n",
              "      <th>New_Sentence</th>\n",
              "      <th>Type</th>\n",
              "    </tr>\n",
              "  </thead>\n",
              "  <tbody>\n",
              "    <tr>\n",
              "      <th>0</th>\n",
              "      <td>0</td>\n",
              "      <td>GERRES15609</td>\n",
              "      <td>Author and/or Review architecture/design and o...</td>\n",
              "      <td>Responsibility</td>\n",
              "    </tr>\n",
              "    <tr>\n",
              "      <th>1</th>\n",
              "      <td>1</td>\n",
              "      <td>PHERES15784</td>\n",
              "      <td>Should be able to develop custom dynamic shape...</td>\n",
              "      <td>Responsibility</td>\n",
              "    </tr>\n",
              "    <tr>\n",
              "      <th>2</th>\n",
              "      <td>2</td>\n",
              "      <td>GERREQ10457</td>\n",
              "      <td>Experience in working crosslly with a  larger ...</td>\n",
              "      <td>Requirement</td>\n",
              "    </tr>\n",
              "    <tr>\n",
              "      <th>3</th>\n",
              "      <td>3</td>\n",
              "      <td>GERSKL27235</td>\n",
              "      <td>Previous business experience, including but no...</td>\n",
              "      <td>Skill</td>\n",
              "    </tr>\n",
              "    <tr>\n",
              "      <th>4</th>\n",
              "      <td>4</td>\n",
              "      <td>HONSSK18415</td>\n",
              "      <td>Delivering fast and right the first  time.</td>\n",
              "      <td>SoftSkill</td>\n",
              "    </tr>\n",
              "  </tbody>\n",
              "</table>\n",
              "</div>\n",
              "      <button class=\"colab-df-convert\" onclick=\"convertToInteractive('df-8d10c922-61b5-495e-ab65-6312a907fae8')\"\n",
              "              title=\"Convert this dataframe to an interactive table.\"\n",
              "              style=\"display:none;\">\n",
              "        \n",
              "  <svg xmlns=\"http://www.w3.org/2000/svg\" height=\"24px\"viewBox=\"0 0 24 24\"\n",
              "       width=\"24px\">\n",
              "    <path d=\"M0 0h24v24H0V0z\" fill=\"none\"/>\n",
              "    <path d=\"M18.56 5.44l.94 2.06.94-2.06 2.06-.94-2.06-.94-.94-2.06-.94 2.06-2.06.94zm-11 1L8.5 8.5l.94-2.06 2.06-.94-2.06-.94L8.5 2.5l-.94 2.06-2.06.94zm10 10l.94 2.06.94-2.06 2.06-.94-2.06-.94-.94-2.06-.94 2.06-2.06.94z\"/><path d=\"M17.41 7.96l-1.37-1.37c-.4-.4-.92-.59-1.43-.59-.52 0-1.04.2-1.43.59L10.3 9.45l-7.72 7.72c-.78.78-.78 2.05 0 2.83L4 21.41c.39.39.9.59 1.41.59.51 0 1.02-.2 1.41-.59l7.78-7.78 2.81-2.81c.8-.78.8-2.07 0-2.86zM5.41 20L4 18.59l7.72-7.72 1.47 1.35L5.41 20z\"/>\n",
              "  </svg>\n",
              "      </button>\n",
              "      \n",
              "  <style>\n",
              "    .colab-df-container {\n",
              "      display:flex;\n",
              "      flex-wrap:wrap;\n",
              "      gap: 12px;\n",
              "    }\n",
              "\n",
              "    .colab-df-convert {\n",
              "      background-color: #E8F0FE;\n",
              "      border: none;\n",
              "      border-radius: 50%;\n",
              "      cursor: pointer;\n",
              "      display: none;\n",
              "      fill: #1967D2;\n",
              "      height: 32px;\n",
              "      padding: 0 0 0 0;\n",
              "      width: 32px;\n",
              "    }\n",
              "\n",
              "    .colab-df-convert:hover {\n",
              "      background-color: #E2EBFA;\n",
              "      box-shadow: 0px 1px 2px rgba(60, 64, 67, 0.3), 0px 1px 3px 1px rgba(60, 64, 67, 0.15);\n",
              "      fill: #174EA6;\n",
              "    }\n",
              "\n",
              "    [theme=dark] .colab-df-convert {\n",
              "      background-color: #3B4455;\n",
              "      fill: #D2E3FC;\n",
              "    }\n",
              "\n",
              "    [theme=dark] .colab-df-convert:hover {\n",
              "      background-color: #434B5C;\n",
              "      box-shadow: 0px 1px 3px 1px rgba(0, 0, 0, 0.15);\n",
              "      filter: drop-shadow(0px 1px 2px rgba(0, 0, 0, 0.3));\n",
              "      fill: #FFFFFF;\n",
              "    }\n",
              "  </style>\n",
              "\n",
              "      <script>\n",
              "        const buttonEl =\n",
              "          document.querySelector('#df-8d10c922-61b5-495e-ab65-6312a907fae8 button.colab-df-convert');\n",
              "        buttonEl.style.display =\n",
              "          google.colab.kernel.accessAllowed ? 'block' : 'none';\n",
              "\n",
              "        async function convertToInteractive(key) {\n",
              "          const element = document.querySelector('#df-8d10c922-61b5-495e-ab65-6312a907fae8');\n",
              "          const dataTable =\n",
              "            await google.colab.kernel.invokeFunction('convertToInteractive',\n",
              "                                                     [key], {});\n",
              "          if (!dataTable) return;\n",
              "\n",
              "          const docLinkHtml = 'Like what you see? Visit the ' +\n",
              "            '<a target=\"_blank\" href=https://colab.research.google.com/notebooks/data_table.ipynb>data table notebook</a>'\n",
              "            + ' to learn more about interactive tables.';\n",
              "          element.innerHTML = '';\n",
              "          dataTable['output_type'] = 'display_data';\n",
              "          await google.colab.output.renderOutput(dataTable, element);\n",
              "          const docLink = document.createElement('div');\n",
              "          docLink.innerHTML = docLinkHtml;\n",
              "          element.appendChild(docLink);\n",
              "        }\n",
              "      </script>\n",
              "    </div>\n",
              "  </div>\n",
              "  "
            ]
          },
          "metadata": {},
          "execution_count": 5
        }
      ],
      "source": [
        "data=pd.read_csv('/root/train_data.csv')\n",
        "data.head()"
      ]
    },
    {
      "cell_type": "code",
      "source": [
        "from google.colab import drive\n",
        "drive.mount('/content/drive')"
      ],
      "metadata": {
        "colab": {
          "base_uri": "https://localhost:8080/"
        },
        "id": "XJ9yAm99UWiR",
        "outputId": "3eb4304e-e6f4-4abd-d46d-88c178b9b34d"
      },
      "id": "XJ9yAm99UWiR",
      "execution_count": null,
      "outputs": [
        {
          "output_type": "stream",
          "name": "stdout",
          "text": [
            "Drive already mounted at /content/drive; to attempt to forcibly remount, call drive.mount(\"/content/drive\", force_remount=True).\n"
          ]
        }
      ]
    },
    {
      "cell_type": "markdown",
      "source": [
        "# New Section"
      ],
      "metadata": {
        "id": "ryIOPtxp41z6"
      },
      "id": "ryIOPtxp41z6"
    },
    {
      "cell_type": "code",
      "execution_count": 6,
      "id": "6a8dbbcd",
      "metadata": {
        "colab": {
          "base_uri": "https://localhost:8080/"
        },
        "id": "6a8dbbcd",
        "outputId": "ee816ef9-bda7-4434-b679-1d1b4e43d60d"
      },
      "outputs": [
        {
          "output_type": "stream",
          "name": "stdout",
          "text": [
            "(60115, 4)\n"
          ]
        }
      ],
      "source": [
        "print(data.shape)"
      ]
    },
    {
      "cell_type": "code",
      "execution_count": 7,
      "id": "03fce68d",
      "metadata": {
        "colab": {
          "base_uri": "https://localhost:8080/"
        },
        "id": "03fce68d",
        "outputId": "a9e05220-6e1b-4278-ab29-50769e5b137a"
      },
      "outputs": [
        {
          "output_type": "execute_result",
          "data": {
            "text/plain": [
              "Unnamed: 0         0\n",
              "Sentence_id        0\n",
              "New_Sentence    1113\n",
              "Type               0\n",
              "dtype: int64"
            ]
          },
          "metadata": {},
          "execution_count": 7
        }
      ],
      "source": [
        "data.isnull().sum()"
      ]
    },
    {
      "cell_type": "code",
      "execution_count": 8,
      "id": "138a2b7c",
      "metadata": {
        "colab": {
          "base_uri": "https://localhost:8080/"
        },
        "id": "138a2b7c",
        "outputId": "601985dc-c956-4acc-e81a-fedcfcbdd217"
      },
      "outputs": [
        {
          "output_type": "execute_result",
          "data": {
            "text/plain": [
              "Responsibility    15561\n",
              "Requirement       14132\n",
              "SoftSkill          9581\n",
              "Experience         9248\n",
              "Skill              6956\n",
              "Education          4637\n",
              "Name: Type, dtype: int64"
            ]
          },
          "metadata": {},
          "execution_count": 8
        }
      ],
      "source": [
        "data[\"Type\"].value_counts()"
      ]
    },
    {
      "cell_type": "code",
      "execution_count": 9,
      "id": "829c6d5f",
      "metadata": {
        "id": "829c6d5f"
      },
      "outputs": [],
      "source": [
        "data2=data.dropna()"
      ]
    },
    {
      "cell_type": "code",
      "execution_count": 10,
      "id": "a336aa95",
      "metadata": {
        "colab": {
          "base_uri": "https://localhost:8080/",
          "height": 204
        },
        "id": "a336aa95",
        "outputId": "6608993e-b765-42a6-ee5c-7ae06ac91347"
      },
      "outputs": [
        {
          "output_type": "execute_result",
          "data": {
            "text/plain": [
              "   Unnamed: 0  Sentence_id                                       New_Sentence  \\\n",
              "0           0  GERRES15609  Author and/or Review architecture/design and o...   \n",
              "1           1  PHERES15784  Should be able to develop custom dynamic shape...   \n",
              "2           2  GERREQ10457  Experience in working crosslly with a  larger ...   \n",
              "3           3  GERSKL27235  Previous business experience, including but no...   \n",
              "4           4  HONSSK18415         Delivering fast and right the first  time.   \n",
              "\n",
              "             Type  \n",
              "0  Responsibility  \n",
              "1  Responsibility  \n",
              "2     Requirement  \n",
              "3           Skill  \n",
              "4       SoftSkill  "
            ],
            "text/html": [
              "\n",
              "  <div id=\"df-58d118ae-6ce3-4ef2-b0d5-92be15986806\">\n",
              "    <div class=\"colab-df-container\">\n",
              "      <div>\n",
              "<style scoped>\n",
              "    .dataframe tbody tr th:only-of-type {\n",
              "        vertical-align: middle;\n",
              "    }\n",
              "\n",
              "    .dataframe tbody tr th {\n",
              "        vertical-align: top;\n",
              "    }\n",
              "\n",
              "    .dataframe thead th {\n",
              "        text-align: right;\n",
              "    }\n",
              "</style>\n",
              "<table border=\"1\" class=\"dataframe\">\n",
              "  <thead>\n",
              "    <tr style=\"text-align: right;\">\n",
              "      <th></th>\n",
              "      <th>Unnamed: 0</th>\n",
              "      <th>Sentence_id</th>\n",
              "      <th>New_Sentence</th>\n",
              "      <th>Type</th>\n",
              "    </tr>\n",
              "  </thead>\n",
              "  <tbody>\n",
              "    <tr>\n",
              "      <th>0</th>\n",
              "      <td>0</td>\n",
              "      <td>GERRES15609</td>\n",
              "      <td>Author and/or Review architecture/design and o...</td>\n",
              "      <td>Responsibility</td>\n",
              "    </tr>\n",
              "    <tr>\n",
              "      <th>1</th>\n",
              "      <td>1</td>\n",
              "      <td>PHERES15784</td>\n",
              "      <td>Should be able to develop custom dynamic shape...</td>\n",
              "      <td>Responsibility</td>\n",
              "    </tr>\n",
              "    <tr>\n",
              "      <th>2</th>\n",
              "      <td>2</td>\n",
              "      <td>GERREQ10457</td>\n",
              "      <td>Experience in working crosslly with a  larger ...</td>\n",
              "      <td>Requirement</td>\n",
              "    </tr>\n",
              "    <tr>\n",
              "      <th>3</th>\n",
              "      <td>3</td>\n",
              "      <td>GERSKL27235</td>\n",
              "      <td>Previous business experience, including but no...</td>\n",
              "      <td>Skill</td>\n",
              "    </tr>\n",
              "    <tr>\n",
              "      <th>4</th>\n",
              "      <td>4</td>\n",
              "      <td>HONSSK18415</td>\n",
              "      <td>Delivering fast and right the first  time.</td>\n",
              "      <td>SoftSkill</td>\n",
              "    </tr>\n",
              "  </tbody>\n",
              "</table>\n",
              "</div>\n",
              "      <button class=\"colab-df-convert\" onclick=\"convertToInteractive('df-58d118ae-6ce3-4ef2-b0d5-92be15986806')\"\n",
              "              title=\"Convert this dataframe to an interactive table.\"\n",
              "              style=\"display:none;\">\n",
              "        \n",
              "  <svg xmlns=\"http://www.w3.org/2000/svg\" height=\"24px\"viewBox=\"0 0 24 24\"\n",
              "       width=\"24px\">\n",
              "    <path d=\"M0 0h24v24H0V0z\" fill=\"none\"/>\n",
              "    <path d=\"M18.56 5.44l.94 2.06.94-2.06 2.06-.94-2.06-.94-.94-2.06-.94 2.06-2.06.94zm-11 1L8.5 8.5l.94-2.06 2.06-.94-2.06-.94L8.5 2.5l-.94 2.06-2.06.94zm10 10l.94 2.06.94-2.06 2.06-.94-2.06-.94-.94-2.06-.94 2.06-2.06.94z\"/><path d=\"M17.41 7.96l-1.37-1.37c-.4-.4-.92-.59-1.43-.59-.52 0-1.04.2-1.43.59L10.3 9.45l-7.72 7.72c-.78.78-.78 2.05 0 2.83L4 21.41c.39.39.9.59 1.41.59.51 0 1.02-.2 1.41-.59l7.78-7.78 2.81-2.81c.8-.78.8-2.07 0-2.86zM5.41 20L4 18.59l7.72-7.72 1.47 1.35L5.41 20z\"/>\n",
              "  </svg>\n",
              "      </button>\n",
              "      \n",
              "  <style>\n",
              "    .colab-df-container {\n",
              "      display:flex;\n",
              "      flex-wrap:wrap;\n",
              "      gap: 12px;\n",
              "    }\n",
              "\n",
              "    .colab-df-convert {\n",
              "      background-color: #E8F0FE;\n",
              "      border: none;\n",
              "      border-radius: 50%;\n",
              "      cursor: pointer;\n",
              "      display: none;\n",
              "      fill: #1967D2;\n",
              "      height: 32px;\n",
              "      padding: 0 0 0 0;\n",
              "      width: 32px;\n",
              "    }\n",
              "\n",
              "    .colab-df-convert:hover {\n",
              "      background-color: #E2EBFA;\n",
              "      box-shadow: 0px 1px 2px rgba(60, 64, 67, 0.3), 0px 1px 3px 1px rgba(60, 64, 67, 0.15);\n",
              "      fill: #174EA6;\n",
              "    }\n",
              "\n",
              "    [theme=dark] .colab-df-convert {\n",
              "      background-color: #3B4455;\n",
              "      fill: #D2E3FC;\n",
              "    }\n",
              "\n",
              "    [theme=dark] .colab-df-convert:hover {\n",
              "      background-color: #434B5C;\n",
              "      box-shadow: 0px 1px 3px 1px rgba(0, 0, 0, 0.15);\n",
              "      filter: drop-shadow(0px 1px 2px rgba(0, 0, 0, 0.3));\n",
              "      fill: #FFFFFF;\n",
              "    }\n",
              "  </style>\n",
              "\n",
              "      <script>\n",
              "        const buttonEl =\n",
              "          document.querySelector('#df-58d118ae-6ce3-4ef2-b0d5-92be15986806 button.colab-df-convert');\n",
              "        buttonEl.style.display =\n",
              "          google.colab.kernel.accessAllowed ? 'block' : 'none';\n",
              "\n",
              "        async function convertToInteractive(key) {\n",
              "          const element = document.querySelector('#df-58d118ae-6ce3-4ef2-b0d5-92be15986806');\n",
              "          const dataTable =\n",
              "            await google.colab.kernel.invokeFunction('convertToInteractive',\n",
              "                                                     [key], {});\n",
              "          if (!dataTable) return;\n",
              "\n",
              "          const docLinkHtml = 'Like what you see? Visit the ' +\n",
              "            '<a target=\"_blank\" href=https://colab.research.google.com/notebooks/data_table.ipynb>data table notebook</a>'\n",
              "            + ' to learn more about interactive tables.';\n",
              "          element.innerHTML = '';\n",
              "          dataTable['output_type'] = 'display_data';\n",
              "          await google.colab.output.renderOutput(dataTable, element);\n",
              "          const docLink = document.createElement('div');\n",
              "          docLink.innerHTML = docLinkHtml;\n",
              "          element.appendChild(docLink);\n",
              "        }\n",
              "      </script>\n",
              "    </div>\n",
              "  </div>\n",
              "  "
            ]
          },
          "metadata": {},
          "execution_count": 10
        }
      ],
      "source": [
        "data2.head()"
      ]
    },
    {
      "cell_type": "code",
      "execution_count": 11,
      "id": "01deccfe",
      "metadata": {
        "colab": {
          "base_uri": "https://localhost:8080/"
        },
        "id": "01deccfe",
        "outputId": "9318c6fb-1c10-4142-f659-16ec8d7f74ab"
      },
      "outputs": [
        {
          "output_type": "execute_result",
          "data": {
            "text/plain": [
              "Unnamed: 0      0\n",
              "Sentence_id     0\n",
              "New_Sentence    0\n",
              "Type            0\n",
              "dtype: int64"
            ]
          },
          "metadata": {},
          "execution_count": 11
        }
      ],
      "source": [
        "data2.isnull().sum()"
      ]
    },
    {
      "cell_type": "code",
      "execution_count": 12,
      "id": "c570e170",
      "metadata": {
        "colab": {
          "base_uri": "https://localhost:8080/"
        },
        "id": "c570e170",
        "outputId": "2e45af19-aa8a-4970-f86f-fc8da6810a88"
      },
      "outputs": [
        {
          "output_type": "stream",
          "name": "stdout",
          "text": [
            "(59002, 4)\n"
          ]
        }
      ],
      "source": [
        "print(data2.shape)"
      ]
    },
    {
      "cell_type": "code",
      "execution_count": 13,
      "id": "66c6cee6",
      "metadata": {
        "colab": {
          "base_uri": "https://localhost:8080/"
        },
        "id": "66c6cee6",
        "outputId": "edcdeb90-a644-4b17-ed51-1dfa440ec23a"
      },
      "outputs": [
        {
          "output_type": "stream",
          "name": "stdout",
          "text": [
            "Responsibility    15257\n",
            "Requirement       13878\n",
            "SoftSkill          9416\n",
            "Experience         9078\n",
            "Skill              6833\n",
            "Education          4540\n",
            "Name: Type, dtype: int64\n"
          ]
        }
      ],
      "source": [
        "count_type=data2[\"Type\"].value_counts()\n",
        "print(count_type)"
      ]
    },
    {
      "cell_type": "code",
      "execution_count": 14,
      "id": "4637545a",
      "metadata": {
        "colab": {
          "base_uri": "https://localhost:8080/",
          "height": 286
        },
        "id": "4637545a",
        "outputId": "a3e1af1a-86ce-4162-d65c-6b399c4b4d44"
      },
      "outputs": [
        {
          "output_type": "execute_result",
          "data": {
            "text/plain": [
              "<matplotlib.axes._subplots.AxesSubplot at 0x7f2efa86ced0>"
            ]
          },
          "metadata": {},
          "execution_count": 14
        },
        {
          "output_type": "display_data",
          "data": {
            "text/plain": [
              "<Figure size 432x288 with 1 Axes>"
            ],
            "image/png": "[encoded data removed]"
          },
          "metadata": {
            "needs_background": "light"
          }
        }
      ],
      "source": [
        "data2[\"Type\"].hist()"
      ]
    },
    {
      "cell_type": "code",
      "execution_count": 16,
      "id": "36da564f",
      "metadata": {
        "id": "36da564f"
      },
      "outputs": [],
      "source": [
        "vocab={} #no. of times the word occurs in all data\n",
        "word_count={} #no. of sentences the word occurs in\n",
        "\n",
        "for index,row in data2.iterrows():\n",
        "    words=row[\"New_Sentence\"].split(\" \")\n",
        "    flag=dict.fromkeys(words,0)\n",
        "    for w in words:\n",
        "        if w not in vocab.keys():\n",
        "            vocab[w]=1\n",
        "        else:\n",
        "            vocab[w]+=1\n",
        "        if w not in word_count.keys():\n",
        "            word_count[w]=1\n",
        "            flag[w]=1\n",
        "        elif flag[w]==0:\n",
        "            word_count[w]+=1\n",
        "            flag[w]=1"
      ]
    },
    {
      "cell_type": "code",
      "source": [
        "import nltk\n",
        "nltk.download('stopwords')\n",
        "from nltk.corpus import stopwords\n",
        "stop_words = set(stopwords.words('english'))\n",
        "\n",
        "for key,value in dict(vocab).items():\n",
        "    if value<=5 or key in stop_words:\n",
        "        del vocab[key]\n",
        "\n",
        "\n",
        "print(len(vocab.keys()))\n",
        "#print(vocab)"
      ],
      "metadata": {
        "colab": {
          "base_uri": "https://localhost:8080/"
        },
        "id": "e8QTETb-U2r_",
        "outputId": "3a90888c-3601-4f86-933a-5fb6cbbcd8d7"
      },
      "id": "e8QTETb-U2r_",
      "execution_count": 17,
      "outputs": [
        {
          "output_type": "stream",
          "name": "stdout",
          "text": [
            "8475\n"
          ]
        },
        {
          "output_type": "stream",
          "name": "stderr",
          "text": [
            "[nltk_data] Downloading package stopwords to /root/nltk_data...\n",
            "[nltk_data]   Package stopwords is already up-to-date!\n"
          ]
        }
      ]
    },
    {
      "cell_type": "code",
      "source": [
        "categories=data2.Type.unique()\n",
        "from collections import defaultdict\n",
        "W=np.zeros((len(vocab.keys()),len(categories)))\n",
        "wc_type=pd.DataFrame(data=W,index=vocab.keys(),columns=categories)\n",
        "\n",
        "#wc_type=dict.fromkeys(vocab.keys(),{})\n",
        "#wc_type={}\n",
        "for index,row in data2.iterrows():\n",
        "    words=set(row[\"New_Sentence\"].split(\" \"))\n",
        "    for w in words:\n",
        "      if w in wc_type.index:\n",
        "        wc_type.loc[w][row[\"Type\"]]+=1\n",
        "\n",
        "print(wc_type)"
      ],
      "metadata": {
        "colab": {
          "base_uri": "https://localhost:8080/"
        },
        "id": "DI_iHBS7VLHG",
        "outputId": "04601aa3-d3ba-4e0b-c0d1-159abc5c4733"
      },
      "id": "DI_iHBS7VLHG",
      "execution_count": null,
      "outputs": [
        {
          "output_type": "stream",
          "name": "stdout",
          "text": [
            "              Responsibility  Requirement  Skill  SoftSkill  Education  \\\n",
            "and/or                 171.0        176.0  116.0       20.0       95.0   \n",
            "Review                 136.0          5.0    1.0        3.0        2.0   \n",
            "technical              747.0        414.0  121.0      186.0      187.0   \n",
            "documents               72.0         15.0    4.0        4.0        0.0   \n",
            "ensuring               151.0         10.0    3.0       10.0        0.0   \n",
            "...                      ...          ...    ...        ...        ...   \n",
            "contributors             3.0          2.0    0.0        2.0        0.0   \n",
            "Glide                    0.0          0.0    1.0        0.0        0.0   \n",
            "Events                   4.0          1.0    0.0        1.0        0.0   \n",
            "Marine                   3.0          1.0    2.0        0.0        0.0   \n",
            "ressources               2.0          1.0    0.0        3.0        0.0   \n",
            "\n",
            "              Experience  \n",
            "and/or             361.0  \n",
            "Review               2.0  \n",
            "technical          313.0  \n",
            "documents            3.0  \n",
            "ensuring             5.0  \n",
            "...                  ...  \n",
            "contributors         0.0  \n",
            "Glide                0.0  \n",
            "Events               0.0  \n",
            "Marine               1.0  \n",
            "ressources           0.0  \n",
            "\n",
            "[8475 rows x 6 columns]\n"
          ]
        }
      ]
    },
    {
      "cell_type": "code",
      "source": [
        "laplace_wc_type=wc_type.copy()\n",
        "#print(laplace_wc_type)\n",
        "\n",
        "for c in categories:\n",
        "  wc_type[c]=wc_type[c]/count_type[c]\n",
        "\n",
        "print(wc_type)"
      ],
      "metadata": {
        "id": "7ebC0xptfyVR",
        "colab": {
          "base_uri": "https://localhost:8080/"
        },
        "outputId": "9a4dfff0-438e-4d48-b1e7-57a622007bd3"
      },
      "id": "7ebC0xptfyVR",
      "execution_count": null,
      "outputs": [
        {
          "output_type": "stream",
          "name": "stdout",
          "text": [
            "              Responsibility  Requirement  Skill  SoftSkill  Education  \\\n",
            "and/or                 171.0        176.0  116.0       20.0       95.0   \n",
            "Review                 136.0          5.0    1.0        3.0        2.0   \n",
            "technical              747.0        414.0  121.0      186.0      187.0   \n",
            "documents               72.0         15.0    4.0        4.0        0.0   \n",
            "ensuring               151.0         10.0    3.0       10.0        0.0   \n",
            "...                      ...          ...    ...        ...        ...   \n",
            "contributors             3.0          2.0    0.0        2.0        0.0   \n",
            "Glide                    0.0          0.0    1.0        0.0        0.0   \n",
            "Events                   4.0          1.0    0.0        1.0        0.0   \n",
            "Marine                   3.0          1.0    2.0        0.0        0.0   \n",
            "ressources               2.0          1.0    0.0        3.0        0.0   \n",
            "\n",
            "              Experience  \n",
            "and/or             361.0  \n",
            "Review               2.0  \n",
            "technical          313.0  \n",
            "documents            3.0  \n",
            "ensuring             5.0  \n",
            "...                  ...  \n",
            "contributors         0.0  \n",
            "Glide                0.0  \n",
            "Events               0.0  \n",
            "Marine               1.0  \n",
            "ressources           0.0  \n",
            "\n",
            "[8475 rows x 6 columns]\n",
            "              Responsibility  Requirement     Skill  SoftSkill  Education  \\\n",
            "and/or              0.011208     0.012682  0.016976   0.002124   0.020925   \n",
            "Review              0.008914     0.000360  0.000146   0.000319   0.000441   \n",
            "technical           0.048961     0.029831  0.017708   0.019754   0.041189   \n",
            "documents           0.004719     0.001081  0.000585   0.000425   0.000000   \n",
            "ensuring            0.009897     0.000721  0.000439   0.001062   0.000000   \n",
            "...                      ...          ...       ...        ...        ...   \n",
            "contributors        0.000197     0.000144  0.000000   0.000212   0.000000   \n",
            "Glide               0.000000     0.000000  0.000146   0.000000   0.000000   \n",
            "Events              0.000262     0.000072  0.000000   0.000106   0.000000   \n",
            "Marine              0.000197     0.000072  0.000293   0.000000   0.000000   \n",
            "ressources          0.000131     0.000072  0.000000   0.000319   0.000000   \n",
            "\n",
            "              Experience  \n",
            "and/or          0.039766  \n",
            "Review          0.000220  \n",
            "technical       0.034479  \n",
            "documents       0.000330  \n",
            "ensuring        0.000551  \n",
            "...                  ...  \n",
            "contributors    0.000000  \n",
            "Glide           0.000000  \n",
            "Events          0.000000  \n",
            "Marine          0.000110  \n",
            "ressources      0.000000  \n",
            "\n",
            "[8475 rows x 6 columns]\n"
          ]
        }
      ]
    },
    {
      "cell_type": "code",
      "source": [
        "import math\n",
        "\n",
        "vocab_size=len(vocab.keys())\n",
        "def laplace_smoothing(laplace_wc_type,alpha=1):\n",
        "  for w in vocab.keys():\n",
        "    for c in categories:\n",
        "      laplace_wc_type.loc[w][c]=math.log((laplace_wc_type.loc[w][c]+alpha)/(count_type[c]+alpha*vocab_size))\n",
        "\n",
        "laplace_smoothing(laplace_wc_type)\n",
        "print(laplace_wc_type)"
      ],
      "metadata": {
        "colab": {
          "base_uri": "https://localhost:8080/"
        },
        "id": "HdkFRBue8pgb",
        "outputId": "f51ed6f5-3c40-4cef-b75a-6ce76aea06a8"
      },
      "id": "HdkFRBue8pgb",
      "execution_count": null,
      "outputs": [
        {
          "output_type": "stream",
          "name": "stdout",
          "text": [
            "              Responsibility  Requirement     Skill  SoftSkill  Education  \\\n",
            "and/or             -4.927085    -4.838566 -4.873957  -6.747531  -4.909510   \n",
            "Review             -5.154599    -8.222956 -8.942984  -8.405759  -8.375246   \n",
            "technical          -3.457177    -3.986437 -4.832110  -4.560944  -4.237416   \n",
            "documents          -5.784120    -7.242127 -8.026693  -8.182615  -9.473858   \n",
            "ensuring           -5.050699    -7.616821 -8.249836  -7.394158  -9.473858   \n",
            "...                      ...          ...       ...        ...        ...   \n",
            "contributors       -8.688285    -8.916104 -9.636131  -8.693441  -9.473858   \n",
            "Glide             -10.074580   -10.014716 -8.942984  -9.792053  -9.473858   \n",
            "Events             -8.465142    -9.321569 -9.636131  -9.098906  -9.473858   \n",
            "Marine             -8.688285    -9.321569 -8.537519  -9.792053  -9.473858   \n",
            "ressources         -8.975967    -9.321569 -9.636131  -8.405759  -9.473858   \n",
            "\n",
            "              Experience  \n",
            "and/or         -3.881336  \n",
            "Review         -8.674368  \n",
            "technical      -4.023587  \n",
            "documents      -8.386686  \n",
            "ensuring       -7.981221  \n",
            "...                  ...  \n",
            "contributors   -9.772980  \n",
            "Glide          -9.772980  \n",
            "Events         -9.772980  \n",
            "Marine         -9.079833  \n",
            "ressources     -9.772980  \n",
            "\n",
            "[8475 rows x 6 columns]\n"
          ]
        }
      ]
    },
    {
      "cell_type": "code",
      "source": [
        "def laplace_smoothing(count_type, vocab, laplace_wc_type, word, sent_class):\n",
        "    a = laplace_wc_type[word][sent_class] + 1\n",
        "    b = count_type[sent_class] + len(vocab)\n",
        "    return math.log(a/b)"
      ],
      "metadata": {
        "id": "cOKotg_7YIQC"
      },
      "id": "cOKotg_7YIQC",
      "execution_count": null,
      "outputs": []
    },
    {
      "cell_type": "code",
      "source": [
        "log_label_priors={}\n",
        "for c in categories:\n",
        "  log_label_priors[c]=count_type[c]/len(data2.index)"
      ],
      "metadata": {
        "id": "CmJGlktHuAH_"
      },
      "id": "CmJGlktHuAH_",
      "execution_count": null,
      "outputs": []
    },
    {
      "cell_type": "code",
      "source": [
        "\n",
        "def predict(count_type, vocab, laplace_wc_type, log_label_priors, categories, test_sentences):\n",
        "    result = []\n",
        "    for text in test_sentences:\n",
        "        label_scores = {c: log_label_priors[c] for c in categories}\n",
        "        words = set(str(text).split(\" \"))\n",
        "        for word in words:\n",
        "            if word in vocab:\n",
        "              for c in categories:\n",
        "                log_w_given_c = laplace_wc_type.loc[word][c]\n",
        "                label_scores[c] += log_w_given_c\n",
        "        result.append(max(label_scores, key=label_scores.get))\n",
        "    return result"
      ],
      "metadata": {
        "id": "BiKl5U8NuoF7"
      },
      "id": "BiKl5U8NuoF7",
      "execution_count": 26,
      "outputs": []
    },
    {
      "cell_type": "code",
      "source": [
        "from collections import Counter\n",
        "def top10():\n",
        "  top10=dict.fromkeys(categories,[])\n",
        "  options=dict.fromkeys(vocab.keys())\n",
        "  for c in categories:\n",
        "    for word in vocab:\n",
        "      log_c_given_w=wc_type.loc[word][c]*(count_type[c]/len(data2.index))/word_count[word]\n",
        "      options[word]=log_c_given_w\n",
        "    top10[c]=list(dict(Counter(options).most_common(10)).keys())\n",
        "  return top10"
      ],
      "metadata": {
        "id": "6sa5FTSG0zmO"
      },
      "id": "6sa5FTSG0zmO",
      "execution_count": null,
      "outputs": []
    },
    {
      "cell_type": "code",
      "source": [
        "top10()"
      ],
      "metadata": {
        "colab": {
          "base_uri": "https://localhost:8080/"
        },
        "id": "OFW36SrS2kOM",
        "outputId": "23deb4bf-a9c1-407a-fa43-56e20b986574"
      },
      "id": "OFW36SrS2kOM",
      "execution_count": null,
      "outputs": [
        {
          "output_type": "execute_result",
          "data": {
            "text/plain": [
              "{'Responsibility': ['contracted',\n",
              "  'Represents',\n",
              "  'backlog.',\n",
              "  'assets.',\n",
              "  'Determine',\n",
              "  'Interacts',\n",
              "  'counterparts',\n",
              "  'Ensures',\n",
              "  'shows,',\n",
              "  'conferences,'],\n",
              " 'Requirement': ['Approximately',\n",
              "  '50',\n",
              "  'Citizens',\n",
              "  'resident,',\n",
              "  'License.',\n",
              "  '10%.',\n",
              "  'visa',\n",
              "  'Q',\n",
              "  'Valid',\n",
              "  'citizenship'],\n",
              " 'Skill': ['PowerShell.',\n",
              "  '(Oracle,',\n",
              "  '(SQL,',\n",
              "  'Splunk,',\n",
              "  'PowerPoint).',\n",
              "  'P8',\n",
              "  'Glide',\n",
              "  'Ethernet,',\n",
              "  'Excel.',\n",
              "  '8,'],\n",
              " 'SoftSkill': ['Ambitious,',\n",
              "  'C1',\n",
              "  'spoken)',\n",
              "  'accurately,',\n",
              "  'Positive,',\n",
              "  'Flexibilitxe4t',\n",
              "  'Innovative,',\n",
              "  'thinker,',\n",
              "  'ethic.',\n",
              "  'habilidades'],\n",
              " 'Education': ['Science/Engineering',\n",
              "  'Post-Secondary',\n",
              "  'Engineering/',\n",
              "  '(Masters',\n",
              "  '(Mechanical,',\n",
              "  'technical/professional',\n",
              "  'majors',\n",
              "  'Computer,',\n",
              "  '(Science,',\n",
              "  'Psychology,'],\n",
              " 'Experience': ['4-6',\n",
              "  'Three',\n",
              "  '2-5',\n",
              "  '+5',\n",
              "  '8+',\n",
              "  'ans',\n",
              "  'analyst/consultant',\n",
              "  'HAVE5+',\n",
              "  'years+',\n",
              "  'Over']}"
            ]
          },
          "metadata": {},
          "execution_count": 111
        }
      ]
    },
    {
      "cell_type": "code",
      "source": [
        "from sklearn.model_selection import train_test_split\n",
        "\n",
        "X=data2[\"New_Sentence\"]\n",
        "y=data2[\"Type\"]\n",
        "train_sentences, test_sentences, train_labels, test_labels = train_test_split(X, y, test_size=0.3, shuffle=True)\n",
        "dev_sentences, test_sentences, dev_labels, test_labels = train_test_split(test_sentences, test_labels, test_size=0.5, shuffle=True)"
      ],
      "metadata": {
        "id": "_3nFJlks79pK"
      },
      "id": "_3nFJlks79pK",
      "execution_count": 18,
      "outputs": []
    },
    {
      "cell_type": "code",
      "source": [
        "def fit(data,labels,laplace=True,alpha=1):\n",
        "  import math\n",
        "\n",
        "  count_type=labels.value_counts()\n",
        "  vocab={} #no. of times the word occurs in all data\n",
        "  word_count={} #no. of sentences the word occurs in\n",
        "\n",
        "  for row in data:\n",
        "    words=row.split(\" \")\n",
        "    flag=dict.fromkeys(words,0)\n",
        "    for w in words:\n",
        "        if w not in vocab.keys():\n",
        "            vocab[w]=1\n",
        "        else:\n",
        "            vocab[w]+=1\n",
        "        if w not in word_count.keys():\n",
        "            word_count[w]=1\n",
        "            flag[w]=1\n",
        "        elif flag[w]==0:\n",
        "            word_count[w]+=1\n",
        "            flag[w]=1\n",
        "\n",
        "  #remove rare words and stop words\n",
        "  import nltk\n",
        "  nltk.download('stopwords')\n",
        "  from nltk.corpus import stopwords\n",
        "  stop_words = set(stopwords.words('english'))\n",
        "\n",
        "  for key,value in dict(vocab).items():\n",
        "    if value<=5 or key in stop_words:\n",
        "        del vocab[key]\n",
        "\n",
        "  vocab_size=len(vocab.keys())\n",
        "\n",
        "  #count the number of sentences of a particular category containing a given word - wc_type\n",
        "  categories=labels.unique()\n",
        "  from collections import defaultdict\n",
        "  W=np.zeros((len(vocab.keys()),len(categories)))\n",
        "  wc_type=pd.DataFrame(data=W,index=vocab.keys(),columns=categories)\n",
        "  for row in range(len(data)):\n",
        "    words=set(data.iloc[row].split(\" \"))\n",
        "    for w in words:\n",
        "      if w in wc_type.index:\n",
        "        wc_type.loc[w][labels.iloc[row]]+=1\n",
        "  \n",
        "  laplace_wc_type=wc_type.copy()\n",
        " \n",
        "   #calculate the conditional probabilities P[w|category]\n",
        "  for c in categories:\n",
        "     wc_type[c]=wc_type[c]/count_type[c]\n",
        "\n",
        "  # Laplace smoothing\n",
        "  if laplace:\n",
        "     for w in vocab.keys():\n",
        "      for c in categories:\n",
        "        laplace_wc_type.loc[w][c]=math.log((laplace_wc_type.loc[w][c]+alpha)/(count_type[c]+alpha*vocab_size))\n",
        "  \n",
        "  log_label_priors={}\n",
        "  for c in categories:\n",
        "     log_label_priors[c]=count_type[c]/len(data)\n",
        "  \n",
        "  return count_type, vocab, laplace_wc_type, log_label_priors, categories, wc_type"
      ],
      "metadata": {
        "id": "aEzMrLvnGbFo"
      },
      "id": "aEzMrLvnGbFo",
      "execution_count": 23,
      "outputs": []
    },
    {
      "cell_type": "code",
      "source": [
        "count_type, vocab, laplace_wc_type, log_label_priors, categories,wc_type=fit(train_sentences,train_labels,laplace=True,alpha=500)"
      ],
      "metadata": {
        "colab": {
          "base_uri": "https://localhost:8080/"
        },
        "id": "dj3UA1z0GuLp",
        "outputId": "88df33bb-4009-48e9-dfcd-290036af1e8f"
      },
      "id": "dj3UA1z0GuLp",
      "execution_count": 24,
      "outputs": [
        {
          "output_type": "stream",
          "name": "stderr",
          "text": [
            "[nltk_data] Downloading package stopwords to /root/nltk_data...\n",
            "[nltk_data]   Package stopwords is already up-to-date!\n"
          ]
        }
      ]
    },
    {
      "cell_type": "code",
      "source": [
        "pred_dev2=predict(count_type, vocab, laplace_wc_type, log_label_priors, categories, dev_sentences)"
      ],
      "metadata": {
        "id": "YOxNteJxI2ZD"
      },
      "id": "YOxNteJxI2ZD",
      "execution_count": 27,
      "outputs": []
    },
    {
      "cell_type": "code",
      "source": [
        "from sklearn.metrics import accuracy_score\n",
        "accuracy_score(dev_labels,pred_dev2)"
      ],
      "metadata": {
        "colab": {
          "base_uri": "https://localhost:8080/"
        },
        "id": "bg9zC2_JRbcK",
        "outputId": "952775ab-d872-4048-cb70-6221b47df469"
      },
      "id": "bg9zC2_JRbcK",
      "execution_count": 28,
      "outputs": [
        {
          "output_type": "execute_result",
          "data": {
            "text/plain": [
              "0.583954802259887"
            ]
          },
          "metadata": {},
          "execution_count": 28
        }
      ]
    },
    {
      "cell_type": "code",
      "source": [
        "accuracy=[]\n",
        "alphas=[0.1,0.5,1,5]\n",
        "for i in range(len(alphas)):\n",
        "  count_type, vocab, laplace_wc_type, log_label_priors, categories,wc_type=fit(train_sentences,train_labels,laplace=True,alpha=alphas[i])\n",
        "  pred_dev2=predict(count_type, vocab, laplace_wc_type, log_label_priors, categories, dev_sentences)\n",
        "  accuracy.append(accuracy_score(dev_labels,pred_dev2))"
      ],
      "metadata": {
        "id": "id6LBB4lTSOF",
        "outputId": "6c9991d9-462f-46f2-fc3f-af22ca9d9344",
        "colab": {
          "base_uri": "https://localhost:8080/"
        }
      },
      "id": "id6LBB4lTSOF",
      "execution_count": 30,
      "outputs": [
        {
          "output_type": "stream",
          "name": "stderr",
          "text": [
            "[nltk_data] Downloading package stopwords to /root/nltk_data...\n",
            "[nltk_data]   Package stopwords is already up-to-date!\n",
            "[nltk_data] Downloading package stopwords to /root/nltk_data...\n",
            "[nltk_data]   Package stopwords is already up-to-date!\n",
            "[nltk_data] Downloading package stopwords to /root/nltk_data...\n",
            "[nltk_data]   Package stopwords is already up-to-date!\n",
            "[nltk_data] Downloading package stopwords to /root/nltk_data...\n",
            "[nltk_data]   Package stopwords is already up-to-date!\n"
          ]
        }
      ]
    },
    {
      "cell_type": "code",
      "source": [
        "plt.plot(alphas, accuracy)\n",
        "\n",
        "plt.xlabel('alphas')\n",
        "plt.ylabel('Accuracy')\n",
        "  \n",
        "\n",
        "plt.title('Hyperparameter effect')\n",
        "  \n",
        "\n",
        "plt.show()"
      ],
      "metadata": {
        "colab": {
          "base_uri": "https://localhost:8080/",
          "height": 295
        },
        "id": "QKCOD_owfGhY",
        "outputId": "71559162-8a35-44c8-d359-2daf3185feb4"
      },
      "id": "QKCOD_owfGhY",
      "execution_count": 31,
      "outputs": [
        {
          "output_type": "display_data",
          "data": {
            "text/plain": [
              "<Figure size 432x288 with 1 Axes>"
            ],
            "image/png": "[encoded data removed]"
          },
          "metadata": {
            "needs_background": "light"
          }
        }
      ]
    },
    {
      "cell_type": "code",
      "source": [
        "count_type, vocab, laplace_wc_type, log_label_priors, categories,wc_type=fit(train_sentences,train_labels,laplace=True,alpha=1)\n",
        "pred_dev3=predict(count_type, vocab, laplace_wc_type, log_label_priors, categories, test_sentences)\n",
        "accuracy_score(test_labels,pred_dev3)"
      ],
      "metadata": {
        "colab": {
          "base_uri": "https://localhost:8080/"
        },
        "id": "96zq2p2Yfjhk",
        "outputId": "8e7bd3a1-1ca5-4277-8509-a25eafd06dd5"
      },
      "id": "96zq2p2Yfjhk",
      "execution_count": 32,
      "outputs": [
        {
          "output_type": "stream",
          "name": "stderr",
          "text": [
            "[nltk_data] Downloading package stopwords to /root/nltk_data...\n",
            "[nltk_data]   Package stopwords is already up-to-date!\n"
          ]
        },
        {
          "output_type": "execute_result",
          "data": {
            "text/plain": [
              "0.7011637103152186"
            ]
          },
          "metadata": {},
          "execution_count": 32
        }
      ]
    },
    {
      "cell_type": "code",
      "source": [],
      "metadata": {
        "id": "ySssNAwBhjKu"
      },
      "id": "ySssNAwBhjKu",
      "execution_count": null,
      "outputs": []
    }
  ],
  "metadata": {
    "kernelspec": {
      "display_name": "Python 3 (ipykernel)",
      "language": "python",
      "name": "python3"
    },
    "language_info": {
      "codemirror_mode": {
        "name": "ipython",
        "version": 3
      },
      "file_extension": ".py",
      "mimetype": "text/x-python",
      "name": "python",
      "nbconvert_exporter": "python",
      "pygments_lexer": "ipython3",
      "version": "3.11.0"
    },
    "colab": {
      "provenance": [],
      "collapsed_sections": [],
      "include_colab_link": true
    }
  },
  "nbformat": 4,
  "nbformat_minor": 5
}