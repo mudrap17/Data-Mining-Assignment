{
 "cells": [
  {
   "cell_type": "code",
   "execution_count": 224,
   "id": "5b86b4a5",
   "metadata": {},
   "outputs": [],
   "source": [
    "import numpy as np \n",
    "import pandas as pd \n",
    "\n",
    "import os\n",
    "image_paths=[]\n",
    "for dirname, _, filenames in os.walk('C:\\\\Users\\\\Mudra\\\\Downloads\\\\assignment 1'):\n",
    "    for filename in filenames:\n",
    "        image_paths.append(os.path.join(dirname, filename))"
   ]
  },
  {
   "cell_type": "code",
   "execution_count": 225,
   "id": "8ad006f5",
   "metadata": {},
   "outputs": [],
   "source": [
    "from PIL import Image\n",
    "data = []\n",
    "labels = []\n",
    "for image_path in image_paths:\n",
    "    label = image_path.split(os.path.sep)[-2]\n",
    "    image = cv2.imread(image_path)\n",
    "    image = cv2.cvtColor(image, cv2.COLOR_BGR2RGB)\n",
    "    data.append(image)\n",
    "    labels.append(label)"
   ]
  },
  {
   "cell_type": "code",
   "execution_count": 4,
   "id": "d68543fc",
   "metadata": {},
   "outputs": [
    {
     "name": "stdout",
     "output_type": "stream",
     "text": [
      "Collecting opencv-python\n",
      "  Using cached opencv_python-4.6.0.66-cp36-abi3-win_amd64.whl (35.6 MB)\n",
      "Requirement already satisfied: numpy>=1.19.3 in c:\\users\\mudra\\appdata\\local\\programs\\python\\python39\\lib\\site-packages (from opencv-python) (1.22.4)\n",
      "Installing collected packages: opencv-python\n",
      "Successfully installed opencv-python-4.6.0.66\n"
     ]
    },
    {
     "name": "stderr",
     "output_type": "stream",
     "text": [
      "\n",
      "[notice] A new release of pip available: 22.2.2 -> 22.3\n",
      "[notice] To update, run: C:\\Users\\Mudra\\AppData\\Local\\Programs\\Python\\Python39\\python.exe -m pip install --upgrade pip\n"
     ]
    }
   ],
   "source": [
    "import sys\n",
    "!{sys.executable} -m pip install opencv-python"
   ]
  },
  {
   "cell_type": "code",
   "execution_count": 226,
   "id": "375d0563",
   "metadata": {},
   "outputs": [],
   "source": [
    "# counts number of images in each class\n",
    "def classes_counter(labels, class_name):\n",
    "    counter = 0\n",
    "    for l in labels:\n",
    "        if l == class_name:\n",
    "            counter += 1\n",
    "    return counter\n",
    "\n",
    "counter_mtb = classes_counter(labels, \"Motorbikes\")\n",
    "counter_arp = classes_counter(labels, \"airplanes\")\n",
    "counter_sch = classes_counter(labels, \"schooner\")\n",
    "\n",
    "def display_counts():\n",
    "    counter_mtb = classes_counter(labels, \"Motorbikes\")\n",
    "    counter_arp = classes_counter(labels, \"airplanes\")\n",
    "    counter_sch = classes_counter(labels, \"schooner\")\n",
    "    print(counter_mtb, counter_arp, counter_sch)"
   ]
  },
  {
   "cell_type": "code",
   "execution_count": 227,
   "id": "962d33a6",
   "metadata": {},
   "outputs": [],
   "source": [
    "def make_rotate(img):\n",
    "    (h, w) = img.shape[:2]\n",
    "    \n",
    "    # degrees range\n",
    "    rotate_val = random.uniform(-5, 5)\n",
    "    \n",
    "    # image center\n",
    "    center = (w / 2, h / 2)  \n",
    "    \n",
    "    # Rotation Matrix\n",
    "    M = cv2.getRotationMatrix2D(center, \n",
    "                                rotate_val, \n",
    "                                scale=1)\n",
    "    \n",
    "    imgRotated = cv2.warpAffine(img.copy(), \n",
    "                                M, \n",
    "                                (w, h))\n",
    "    return imgRotated\n",
    "\n",
    "\n",
    "def augment_data(counter, max_number, class_name):\n",
    "    \n",
    "    # while we don't have a lot of images\n",
    "    while counter < max_number:\n",
    "        # loop through each image in list\n",
    "        \n",
    "        for img in data:\n",
    "            # check the number of images again\n",
    "            \n",
    "            if counter < max_number:\n",
    "                # make scaling\n",
    "                imgAug = img.copy()\n",
    "                imgAug = make_rotate(imgAug)\n",
    "                \n",
    "                # temporary save the new image\n",
    "                cv2.imwrite(\"imgAug.jpg\", imgAug)\n",
    "                \n",
    "                # load the new image\n",
    "                image = cv2.imread(\"imgAug.jpg\")\n",
    "                image = cv2.cvtColor(image, cv2.COLOR_BGR2RGB)\n",
    "                \n",
    "                # delete it from memory\n",
    "                os.remove(\"imgAug.jpg\")\n",
    "                \n",
    "                # add new image and it's label and path\n",
    "                data.append(imgAug)\n",
    "                labels.append(class_name)\n",
    "                #imagePaths.append(image_path)\n",
    "                \n",
    "                # recalculate a counter\n",
    "                counter = classes_counter(labels, class_name)\n",
    "            else:\n",
    "                break\n",
    "                \n",
    "max_number=max(counter_mtb, counter_arp, counter_sch)\n",
    "augment_data(counter_mtb, max_number, \"Motorbikes\")"
   ]
  },
  {
   "cell_type": "code",
   "execution_count": 228,
   "id": "46ca9280",
   "metadata": {},
   "outputs": [
    {
     "name": "stdout",
     "output_type": "stream",
     "text": [
      "800 800 63\n"
     ]
    }
   ],
   "source": [
    "display_counts()"
   ]
  },
  {
   "cell_type": "code",
   "execution_count": 229,
   "id": "0a38fb4c",
   "metadata": {},
   "outputs": [
    {
     "name": "stdout",
     "output_type": "stream",
     "text": [
      "800 800 800\n"
     ]
    }
   ],
   "source": [
    "augment_data(counter_sch, max_number, \"schooner\")\n",
    "display_counts()"
   ]
  },
  {
   "cell_type": "code",
   "execution_count": 230,
   "id": "bd17eb7a",
   "metadata": {},
   "outputs": [],
   "source": [
    "data = np.array(data,dtype=object)\n",
    "labels = np.array(labels,dtype=object)"
   ]
  },
  {
   "cell_type": "code",
   "execution_count": 181,
   "id": "b86c1c5a",
   "metadata": {},
   "outputs": [],
   "source": [
    "import matplotlib.pyplot as plt\n",
    "import matplotlib\n",
    "import os\n",
    "import torch \n",
    "import numpy as np\n",
    "import torch.nn as nn\n",
    "import torch.nn.functional as F\n",
    "import torch.optim as optim\n",
    "import time\n",
    "import random\n",
    "import cv2\n",
    "from sklearn.preprocessing import LabelBinarizer\n",
    "from sklearn.model_selection import train_test_split\n",
    "from torchvision.transforms import transforms\n",
    "from torch.utils.data import DataLoader, Dataset\n",
    "from tqdm import tqdm"
   ]
  },
  {
   "cell_type": "code",
   "execution_count": 231,
   "id": "cb4af5d1",
   "metadata": {},
   "outputs": [],
   "source": [
    "\n",
    "lb = LabelBinarizer()\n",
    "labels = lb.fit_transform(labels)\n",
    "#define transforms\n",
    "train_transform = transforms.Compose(\n",
    "    [transforms.ToPILImage(),\n",
    "     transforms.Resize((512, 512)),\n",
    "     transforms.ToTensor(),\n",
    "     transforms.Normalize(mean=[0.485, 0.456, 0.406],\n",
    "                          std=[0.229, 0.224, 0.225])])\n",
    "val_transform = transforms.Compose(\n",
    "    [transforms.ToPILImage(),\n",
    "     transforms.Resize((512, 512)),\n",
    "     transforms.ToTensor(),\n",
    "     transforms.Normalize(mean=[0.485, 0.456, 0.406],\n",
    "                          std=[0.229, 0.224, 0.225])])"
   ]
  },
  {
   "cell_type": "code",
   "execution_count": 232,
   "id": "49bd6c7b",
   "metadata": {},
   "outputs": [
    {
     "name": "stdout",
     "output_type": "stream",
     "text": [
      "x_train examples: 1440\n",
      "x_test examples: 480\n",
      "x_val examples: 480\n"
     ]
    }
   ],
   "source": [
    "# divide the data into train, validation, and test set\n",
    "(X, x_val , Y, y_val) = train_test_split(data, labels, \n",
    "                                                    test_size=0.2,  \n",
    "                                                    stratify=labels,\n",
    "                                                    random_state=42)\n",
    "(x_train, x_test, y_train, y_test) = train_test_split(X, Y, \n",
    "                                                    test_size=0.25, \n",
    "                                                    random_state=42)\n",
    "print(f\"x_train examples: {len(x_train)}\\nx_test examples: {len(x_test)}\\nx_val examples: {len(x_val)}\")"
   ]
  },
  {
   "cell_type": "code",
   "execution_count": 233,
   "id": "a8303d25",
   "metadata": {},
   "outputs": [],
   "source": [
    "class ImageDataset(Dataset):\n",
    "    def __init__(self, images, labels=None, transforms=None):\n",
    "        self.X = images\n",
    "        self.y = labels\n",
    "        self.transforms = transforms\n",
    "         \n",
    "    def __len__(self):\n",
    "        return (len(self.X))\n",
    "    \n",
    "    def __getitem__(self, i):\n",
    "        data = self.X[i][:]\n",
    "        \n",
    "        if self.transforms:\n",
    "            data = self.transforms(data)\n",
    "            \n",
    "        if self.y is not None:\n",
    "            return (data, self.y[i])\n",
    "        else:\n",
    "            return data\n",
    "        \n",
    "train_data = ImageDataset(x_train, y_train, train_transform)\n",
    "val_data = ImageDataset(x_val, y_val, val_transform)\n",
    "test_data = ImageDataset(x_test, y_test, val_transform)"
   ]
  },
  {
   "cell_type": "code",
   "execution_count": 234,
   "id": "b31e7d36",
   "metadata": {},
   "outputs": [],
   "source": [
    "BATCH_SIZE=15\n",
    "epochs=5\n",
    "trainloader = DataLoader(train_data, batch_size=BATCH_SIZE, shuffle=True)\n",
    "valloader = DataLoader(val_data, batch_size=BATCH_SIZE, shuffle=True)\n",
    "testloader = DataLoader(test_data, batch_size=BATCH_SIZE, shuffle=False)"
   ]
  },
  {
   "cell_type": "code",
   "execution_count": 238,
   "id": "5f39a519",
   "metadata": {},
   "outputs": [],
   "source": [
    "class Net(nn.Module):\n",
    "    def __init__(self):\n",
    "        super().__init__()\n",
    "        self.conv1 = nn.Conv2d(3, 6, 5)\n",
    "        self.pool = nn.MaxPool2d(2, 2)\n",
    "        self.conv2 = nn.Conv2d(6, 16, 5)\n",
    "        self.conv3 = nn.Conv2d(16, 32, 5)\n",
    "        self.fc1 = nn.Linear(32 * 60 * 60, 120)\n",
    "        self.fc2 = nn.Linear(120, 84)\n",
    "        self.fc3 = nn.Linear(84, 3)\n",
    "\n",
    "        \n",
    "    def forward(self, x):\n",
    "        x = self.pool(F.relu(self.conv1(x)))\n",
    "        x = self.pool(F.relu(self.conv2(x)))\n",
    "        x = self.pool(F.relu(self.conv3(x)))\n",
    "        x = torch.flatten(x, 1) # flatten all dimensions except batch\n",
    "        x = F.relu(self.fc1(x))\n",
    "        x = F.relu(self.fc2(x))\n",
    "        x = self.fc3(x)\n",
    "        return F.log_softmax(x, dim = 1)"
   ]
  },
  {
   "cell_type": "code",
   "execution_count": 237,
   "id": "f9a73f30",
   "metadata": {},
   "outputs": [
    {
     "data": {
      "text/plain": [
       "(508.0, 254.0, 250.0, 125.0, 121.0, 60.0)"
      ]
     },
     "execution_count": 237,
     "metadata": {},
     "output_type": "execute_result"
    }
   ],
   "source": [
    "o1=(512-5+0)/1 +1\n",
    "o2= o1//2\n",
    "o3= (o2-5+0)/1 +1\n",
    "o4= o3//2\n",
    "o5= (o4-5+0)/1 +1\n",
    "o6=o5//2\n",
    "\n",
    "\n",
    "o1,o2,o3,o4,o5,o6"
   ]
  },
  {
   "cell_type": "code",
   "execution_count": 239,
   "id": "e88f585e",
   "metadata": {},
   "outputs": [],
   "source": [
    "model=Net()\n",
    "criterion = nn.CrossEntropyLoss()\n",
    "optimizer = optim.SGD(model.parameters(), lr=0.0001, momentum=0.5)\n",
    "def fit(model, dataloader):\n",
    "    print('Training')\n",
    "    model.train()\n",
    "    running_loss = 0.0\n",
    "    running_correct = 0\n",
    "    for i, data in tqdm(enumerate(dataloader), total=int(len(train_data)/dataloader.batch_size)):\n",
    "        data, target = data[0], data[1]\n",
    "        optimizer.zero_grad()\n",
    "        outputs = model(data)\n",
    "        loss = criterion(outputs, torch.max(target, 1)[1])\n",
    "        running_loss += loss.item()\n",
    "        _, preds = torch.max(outputs.data, 1)\n",
    "        running_correct += (preds == torch.max(target, 1)[1]).sum().item()\n",
    "        loss.backward()\n",
    "        optimizer.step()\n",
    "        \n",
    "    loss = running_loss/len(dataloader.dataset)\n",
    "    accuracy = 100. * running_correct/len(dataloader.dataset)\n",
    "    \n",
    "    print(f\"Train Loss: {loss:.4f}, Train Acc: {accuracy:.2f}\")\n",
    "    \n",
    "    return loss, accuracy"
   ]
  },
  {
   "cell_type": "code",
   "execution_count": 53,
   "id": "736f030d",
   "metadata": {},
   "outputs": [
    {
     "name": "stdout",
     "output_type": "stream",
     "text": [
      "Training\n"
     ]
    },
    {
     "name": "stderr",
     "output_type": "stream",
     "text": [
      "100it [06:48,  4.09s/it]                                                                                               "
     ]
    },
    {
     "name": "stdout",
     "output_type": "stream",
     "text": [
      "Train Loss: 0.7320, Train Acc: 16.06\n"
     ]
    },
    {
     "name": "stderr",
     "output_type": "stream",
     "text": [
      "\n"
     ]
    }
   ],
   "source": [
    "loss,accuracy=fit(model,trainloader)"
   ]
  },
  {
   "cell_type": "code",
   "execution_count": 240,
   "id": "b5b2eab4",
   "metadata": {},
   "outputs": [],
   "source": [
    "#validation function\n",
    "def validate(model, dataloader):\n",
    "    print('Validating')\n",
    "    model.eval()\n",
    "    running_loss = 0.0\n",
    "    running_correct = 0\n",
    "    with torch.no_grad():\n",
    "        for i, data in tqdm(enumerate(dataloader), total=int(len(val_data)/dataloader.batch_size)):\n",
    "            data, target = data[0], data[1]\n",
    "            outputs = model(data)\n",
    "            loss = criterion(outputs, torch.max(target, 1)[1])\n",
    "            \n",
    "            running_loss += loss.item()\n",
    "            _, preds = torch.max(outputs.data, 1)\n",
    "            running_correct += (preds == torch.max(target, 1)[1]).sum().item()\n",
    "        \n",
    "        loss = running_loss/len(dataloader.dataset)\n",
    "        accuracy = 100. * running_correct/len(dataloader.dataset)\n",
    "        print(f'Val Loss: {loss:.4f}, Val Acc: {accuracy:.2f}')\n",
    "        \n",
    "        return loss, accuracy\n",
    "    \n",
    "def test(model, dataloader):\n",
    "    correct = 0\n",
    "    total = 0\n",
    "    with torch.no_grad():\n",
    "        for data in testloader:\n",
    "            inputs, target = data[0], data[1]\n",
    "            outputs = model(inputs)\n",
    "            _, predicted = torch.max(outputs.data, 1)\n",
    "            total += target.size(0)\n",
    "            correct += (predicted == torch.max(target, 1)[1]).sum().item()\n",
    "    return correct, total"
   ]
  },
  {
   "cell_type": "code",
   "execution_count": 241,
   "id": "e3f0db1f",
   "metadata": {},
   "outputs": [
    {
     "name": "stdout",
     "output_type": "stream",
     "text": [
      "Training on 1440 examples, validating on 480 examples...\n",
      "Epoch 1 of 5\n",
      "Training\n"
     ]
    },
    {
     "name": "stderr",
     "output_type": "stream",
     "text": [
      "100%|██████████████████████████████████████████████████████████████████████████████████| 96/96 [02:04<00:00,  1.29s/it]\n"
     ]
    },
    {
     "name": "stdout",
     "output_type": "stream",
     "text": [
      "Train Loss: 0.0732, Train Acc: 33.19\n",
      "Validating\n"
     ]
    },
    {
     "name": "stderr",
     "output_type": "stream",
     "text": [
      "100%|██████████████████████████████████████████████████████████████████████████████████| 32/32 [00:23<00:00,  1.37it/s]\n"
     ]
    },
    {
     "name": "stdout",
     "output_type": "stream",
     "text": [
      "Val Loss: 0.0731, Val Acc: 33.33\n",
      "Epoch 2 of 5\n",
      "Training\n"
     ]
    },
    {
     "name": "stderr",
     "output_type": "stream",
     "text": [
      "100%|██████████████████████████████████████████████████████████████████████████████████| 96/96 [02:23<00:00,  1.50s/it]\n"
     ]
    },
    {
     "name": "stdout",
     "output_type": "stream",
     "text": [
      "Train Loss: 0.0729, Train Acc: 37.01\n",
      "Validating\n"
     ]
    },
    {
     "name": "stderr",
     "output_type": "stream",
     "text": [
      "100%|██████████████████████████████████████████████████████████████████████████████████| 32/32 [00:22<00:00,  1.42it/s]\n"
     ]
    },
    {
     "name": "stdout",
     "output_type": "stream",
     "text": [
      "Val Loss: 0.0729, Val Acc: 53.75\n",
      "Epoch 3 of 5\n",
      "Training\n"
     ]
    },
    {
     "name": "stderr",
     "output_type": "stream",
     "text": [
      "100%|██████████████████████████████████████████████████████████████████████████████████| 96/96 [01:51<00:00,  1.16s/it]\n"
     ]
    },
    {
     "name": "stdout",
     "output_type": "stream",
     "text": [
      "Train Loss: 0.0727, Train Acc: 59.86\n",
      "Validating\n"
     ]
    },
    {
     "name": "stderr",
     "output_type": "stream",
     "text": [
      "100%|██████████████████████████████████████████████████████████████████████████████████| 32/32 [00:16<00:00,  1.89it/s]\n"
     ]
    },
    {
     "name": "stdout",
     "output_type": "stream",
     "text": [
      "Val Loss: 0.0727, Val Acc: 60.42\n",
      "Epoch 4 of 5\n",
      "Training\n"
     ]
    },
    {
     "name": "stderr",
     "output_type": "stream",
     "text": [
      "100%|██████████████████████████████████████████████████████████████████████████████████| 96/96 [01:41<00:00,  1.06s/it]\n"
     ]
    },
    {
     "name": "stdout",
     "output_type": "stream",
     "text": [
      "Train Loss: 0.0724, Train Acc: 60.35\n",
      "Validating\n"
     ]
    },
    {
     "name": "stderr",
     "output_type": "stream",
     "text": [
      "100%|██████████████████████████████████████████████████████████████████████████████████| 32/32 [00:17<00:00,  1.82it/s]\n"
     ]
    },
    {
     "name": "stdout",
     "output_type": "stream",
     "text": [
      "Val Loss: 0.0724, Val Acc: 57.71\n",
      "Epoch 5 of 5\n",
      "Training\n"
     ]
    },
    {
     "name": "stderr",
     "output_type": "stream",
     "text": [
      "100%|██████████████████████████████████████████████████████████████████████████████████| 96/96 [01:41<00:00,  1.05s/it]\n"
     ]
    },
    {
     "name": "stdout",
     "output_type": "stream",
     "text": [
      "Train Loss: 0.0722, Train Acc: 57.36\n",
      "Validating\n"
     ]
    },
    {
     "name": "stderr",
     "output_type": "stream",
     "text": [
      "100%|██████████████████████████████████████████████████████████████████████████████████| 32/32 [00:16<00:00,  1.94it/s]"
     ]
    },
    {
     "name": "stdout",
     "output_type": "stream",
     "text": [
      "Val Loss: 0.0722, Val Acc: 55.42\n",
      "11.32710041999817 minutes\n"
     ]
    },
    {
     "name": "stderr",
     "output_type": "stream",
     "text": [
      "\n"
     ]
    }
   ],
   "source": [
    "train_loss , train_accuracy = [], []\n",
    "val_loss , val_accuracy = [], []\n",
    "print(f\"Training on {len(train_data)} examples, validating on {len(val_data)} examples...\")\n",
    "start = time.time()\n",
    "for epoch in range(epochs):\n",
    "    print(f\"Epoch {epoch+1} of {epochs}\")\n",
    "    train_epoch_loss, train_epoch_accuracy = fit(model, trainloader)\n",
    "    val_epoch_loss, val_epoch_accuracy = validate(model, valloader)\n",
    "    train_loss.append(train_epoch_loss)\n",
    "    train_accuracy.append(train_epoch_accuracy)\n",
    "    val_loss.append(val_epoch_loss)\n",
    "    val_accuracy.append(val_epoch_accuracy)\n",
    "end = time.time()\n",
    "print((end-start)/60, 'minutes')"
   ]
  },
  {
   "cell_type": "code",
   "execution_count": 223,
   "id": "036147f4",
   "metadata": {},
   "outputs": [
    {
     "ename": "SyntaxError",
     "evalue": "invalid syntax (2187296752.py, line 1)",
     "output_type": "error",
     "traceback": [
      "\u001b[1;36m  Input \u001b[1;32mIn [223]\u001b[1;36m\u001b[0m\n\u001b[1;33m    References:\u001b[0m\n\u001b[1;37m               ^\u001b[0m\n\u001b[1;31mSyntaxError\u001b[0m\u001b[1;31m:\u001b[0m invalid syntax\n"
     ]
    }
   ],
   "source": [
    "References:\n",
    "    https://debuggercafe.com/getting-95-accuracy-on-the-caltech101-dataset-using-deep-learning/\n",
    "        https://github.com/vatsalsaglani/ApparelClassifier/blob/master/train.py\n",
    "            https://www.kaggle.com/code/maricinnamon/multiclass-classification-caltech101-tensorflow"
   ]
  },
  {
   "cell_type": "code",
   "execution_count": 243,
   "id": "89f60beb",
   "metadata": {},
   "outputs": [
    {
     "data": {
      "text/plain": [
       "<matplotlib.legend.Legend at 0x21f83052d90>"
      ]
     },
     "execution_count": 243,
     "metadata": {},
     "output_type": "execute_result"
    },
    {
     "data": {
      "image/png": "[encoded data removed]",
      "text/plain": [
       "<Figure size 720x504 with 1 Axes>"
      ]
     },
     "metadata": {
      "needs_background": "light"
     },
     "output_type": "display_data"
    },
    {
     "data": {
      "image/png": "[encoded data removed]",
      "text/plain": [
       "<Figure size 720x504 with 1 Axes>"
      ]
     },
     "metadata": {
      "needs_background": "light"
     },
     "output_type": "display_data"
    }
   ],
   "source": [
    "# accuracy plots\n",
    "plt.figure(figsize=(10, 7))\n",
    "plt.plot(train_accuracy, color='green', label='train accuracy')\n",
    "plt.plot(val_accuracy, color='blue', label='validation accuracy')\n",
    "plt.xlabel('Epochs')\n",
    "plt.ylabel('Accuracy')\n",
    "plt.legend()\n",
    "# loss plots\n",
    "plt.figure(figsize=(10, 7))\n",
    "plt.plot(train_loss, color='orange', label='train loss')\n",
    "plt.plot(val_loss, color='red', label='validation loss')\n",
    "plt.xlabel('Epochs')\n",
    "plt.ylabel('Loss')\n",
    "plt.legend()"
   ]
  },
  {
   "cell_type": "code",
   "execution_count": null,
   "id": "ce09feeb",
   "metadata": {},
   "outputs": [],
   "source": []
  }
 ],
 "metadata": {
  "kernelspec": {
   "display_name": "Python 3 (ipykernel)",
   "language": "python",
   "name": "python3"
  },
  "language_info": {
   "codemirror_mode": {
    "name": "ipython",
    "version": 3
   },
   "file_extension": ".py",
   "mimetype": "text/x-python",
   "name": "python",
   "nbconvert_exporter": "python",
   "pygments_lexer": "ipython3",
   "version": "3.9.7"
  }
 },
 "nbformat": 4,
 "nbformat_minor": 5
}
