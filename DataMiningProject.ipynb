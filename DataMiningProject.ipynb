{
  "nbformat": 4,
  "nbformat_minor": 0,
  "metadata": {
    "colab": {
      "provenance": [],
      "authorship_tag": "ABX9TyMsGnoixFSi1uQ/u6Wgvmm+",
      "include_colab_link": true
    },
    "kernelspec": {
      "name": "python3",
      "display_name": "Python 3"
    },
    "language_info": {
      "name": "python"
    },
    "accelerator": "TPU",
    "gpuClass": "standard"
  },
  "cells": [
    {
      "cell_type": "markdown",
      "metadata": {
        "id": "view-in-github",
        "colab_type": "text"
      },
      "source": [
        "<a href=\"https://colab.research.google.com/github/mudrap17/Data-Mining-Assignment/blob/main/DataMiningProject.ipynb\" target=\"_parent\"><img src=\"https://colab.research.google.com/assets/colab-badge.svg\" alt=\"Open In Colab\"/></a>"
      ]
    },
    {
      "cell_type": "code",
      "execution_count": 1,
      "metadata": {
        "id": "bMDDPHgzfJXS",
        "colab": {
          "base_uri": "https://localhost:8080/"
        },
        "outputId": "8d332669-c3b4-40af-8e6d-769ffd3d9005"
      },
      "outputs": [
        {
          "output_type": "stream",
          "name": "stdout",
          "text": [
            "Mounted at /content/drive\n"
          ]
        }
      ],
      "source": [
        "from google.colab import drive\n",
        "drive.mount('/content/drive')"
      ]
    },
    {
      "cell_type": "code",
      "source": [
        "%cd /content/drive/MyDrive/archive-2"
      ],
      "metadata": {
        "colab": {
          "base_uri": "https://localhost:8080/"
        },
        "id": "GJQhjaqb_Kej",
        "outputId": "e6729218-067b-417d-88db-ee4d4483296d"
      },
      "execution_count": 2,
      "outputs": [
        {
          "output_type": "stream",
          "name": "stdout",
          "text": [
            "/content/drive/MyDrive/archive-2\n"
          ]
        }
      ]
    },
    {
      "cell_type": "markdown",
      "source": [],
      "metadata": {
        "id": "Yjct-qvsIFBy"
      }
    },
    {
      "cell_type": "code",
      "source": [
        "%ls brain_tumor_mri/new_dataset"
      ],
      "metadata": {
        "colab": {
          "base_uri": "https://localhost:8080/"
        },
        "id": "RNpGt5QuIFw6",
        "outputId": "d60ef1ce-5737-418b-d7cb-e7859dc9b561"
      },
      "execution_count": null,
      "outputs": [
        {
          "output_type": "stream",
          "name": "stdout",
          "text": [
            "\u001b[0m\u001b[01;34mbt_images\u001b[0m/  labels.pickle  training_data.pickle\n"
          ]
        }
      ]
    },
    {
      "cell_type": "code",
      "source": [
        "import torch\n",
        "import torch.nn as nn\n",
        "from torchvision import models\n",
        "import torch.nn.functional as F\n",
        "import torchvision.transforms as T\n",
        "from torch.utils.data import Dataset\n",
        "from torch.utils.data import DataLoader\n",
        "from sklearn import cluster\n",
        "from zipfile import ZipFile\n",
        "import matplotlib.pyplot as plt\n",
        "import numpy as np\n",
        "import seaborn as sns\n",
        "from PIL import Image\n",
        "import os\n",
        "import random\n",
        "from sklearn.model_selection import train_test_split"
      ],
      "metadata": {
        "id": "DsLP8YBzCzDs"
      },
      "execution_count": 3,
      "outputs": []
    },
    {
      "cell_type": "code",
      "source": [
        "import pickle\n",
        "training_data = pickle.load(open('brain_tumor_mri/new_dataset/training_data.pickle', 'rb'))"
      ],
      "metadata": {
        "id": "VaaNuFg-AJ51"
      },
      "execution_count": 4,
      "outputs": []
    },
    {
      "cell_type": "code",
      "source": [
        "random.shuffle(training_data)\n",
        "print(\"No. of images:\" + str(len(training_data)))\n",
        "print(\"Shape of image 1:\" + str(training_data[0][0].shape))\n",
        "print(\"Class of image 1:\"+ str(training_data[0][1]))"
      ],
      "metadata": {
        "colab": {
          "base_uri": "https://localhost:8080/"
        },
        "id": "2EzSJaIlAtKE",
        "outputId": "65ea9050-b6df-4382-e51c-739d2cb1b372"
      },
      "execution_count": 69,
      "outputs": [
        {
          "output_type": "stream",
          "name": "stdout",
          "text": [
            "No. of images:3064\n",
            "Shape of image 1:(512, 512, 3)\n",
            "Class of image 1:2\n"
          ]
        }
      ]
    },
    {
      "cell_type": "code",
      "source": [
        "total_data_len = len(training_data)\n",
        "classes = ['Meningioma', 'Glioma', 'Pitutary']\n",
        "n_classes = len(classes)\n",
        "\n",
        "x_raw = []\n",
        "y_raw = []\n",
        "\n",
        "for i in training_data:\n",
        "    x_raw.append(i[0])\n",
        "    y_raw.append(i[1])\n",
        "\n",
        "y_raw = list(np.asarray(y_raw)-np.ones(total_data_len,dtype=np.int))"
      ],
      "metadata": {
        "colab": {
          "base_uri": "https://localhost:8080/"
        },
        "id": "hZ5FqeZ__fqn",
        "outputId": "cb196315-3fa5-4bf1-91e7-94c89095755e"
      },
      "execution_count": 70,
      "outputs": [
        {
          "output_type": "stream",
          "name": "stderr",
          "text": [
            "/usr/local/lib/python3.7/dist-packages/ipykernel_launcher.py:12: DeprecationWarning: `np.int` is a deprecated alias for the builtin `int`. To silence this warning, use `int` by itself. Doing this will not modify any behavior and is safe. When replacing `np.int`, you may wish to use e.g. `np.int64` or `np.int32` to specify the precision. If you wish to review your current use, check the release note link for additional information.\n",
            "Deprecated in NumPy 1.20; for more details and guidance: https://numpy.org/devdocs/release/1.20.0-notes.html#deprecations\n",
            "  if sys.path[0] == '':\n"
          ]
        }
      ]
    },
    {
      "cell_type": "code",
      "source": [
        "from collections import Counter\n",
        "\n",
        "classes_count=Counter(y_raw)\n",
        "print(classes_count)"
      ],
      "metadata": {
        "id": "b7RI1Pv8DOW3",
        "colab": {
          "base_uri": "https://localhost:8080/"
        },
        "outputId": "c459684d-fc79-4c5d-f86e-64dc0675a072"
      },
      "execution_count": 71,
      "outputs": [
        {
          "output_type": "stream",
          "name": "stdout",
          "text": [
            "Counter({1: 1426, 2: 930, 0: 708})\n"
          ]
        }
      ]
    },
    {
      "cell_type": "code",
      "source": [
        "print(f'Number of scans with Meningioma : {classes_count[0]} , Glioma : {classes_count[1]} , Pitutary : {classes_count[2]}')            \n",
        "fig = plt.figure(figsize = (10, 5))\n",
        "plt.bar(classes,classes_count.values(),color=['plum','teal','skyblue'])\n",
        "plt.xlabel(\"CLASSES OF TUMOR\")\n",
        "plt.ylabel(\"NUMBER OF SCANS\")\n",
        "plt.show()"
      ],
      "metadata": {
        "colab": {
          "base_uri": "https://localhost:8080/",
          "height": 352
        },
        "id": "zhXao2WxEboh",
        "outputId": "ab86a47b-dba5-467a-c49f-bb0a2793842f"
      },
      "execution_count": 8,
      "outputs": [
        {
          "output_type": "stream",
          "name": "stdout",
          "text": [
            "Number of scans with Meningioma : 708 , Glioma : 1426 , Pitutary : 930\n"
          ]
        },
        {
          "output_type": "display_data",
          "data": {
            "text/plain": [
              "<Figure size 720x360 with 1 Axes>"
            ],
            "image/png": "[encoded data removed]"
          },
          "metadata": {
            "needs_background": "light"
          }
        }
      ]
    },
    {
      "cell_type": "code",
      "source": [
        "# https://note.nkmk.me/en/python-opencv-numpy-rotate-flip/\n",
        "\n",
        "def augment_data(counter, max_number, class_name,x_raw,y_raw):\n",
        "    n=len(x_raw)\n",
        "    # while we don't have a lot of images\n",
        "    while counter < max_number:\n",
        "        # loop through each image in list\n",
        "        for i in range(n):\n",
        "            # check the number of images again\n",
        "            #print(i)\n",
        "            if counter < max_number and y_raw[i]==class_name:\n",
        "                # make scaling\n",
        "                imgAug = np.flipud(x_raw[i])\n",
        "                \n",
        "                # add new image and it's label\n",
        "                x_raw.append(imgAug)\n",
        "                y_raw.append(class_name)\n",
        "  \n",
        "                #print(Counter(y_raw)[y_raw[i]])\n",
        "                # recalculate a counter\n",
        "                counter = Counter(y_raw)[class_name]\n",
        "            else:\n",
        "              continue\n",
        "                "
      ],
      "metadata": {
        "id": "qeO2RzZgOUy7"
      },
      "execution_count": 72,
      "outputs": []
    },
    {
      "cell_type": "code",
      "source": [
        "\n",
        "\n",
        "(X, x_val , Y, y_val) = train_test_split(x_raw, y_raw, stratify=y_raw,random_state=42,\n",
        "                                                    test_size=0.2)\n",
        "(x_train, x_test, y_train, y_test) =  train_test_split(X, Y,\n",
        "                                                    test_size=0.2,random_state=42)\n",
        "print(f\"x_train examples: {len(x_train)}\\nx_test examples: {len(x_test)}\\nx_val examples: {len(x_val)}\")\n"
      ],
      "metadata": {
        "colab": {
          "base_uri": "https://localhost:8080/"
        },
        "id": "lt2hhl93ScXl",
        "outputId": "7e076a88-fe5d-459f-b236-3b48ea186364"
      },
      "execution_count": 73,
      "outputs": [
        {
          "output_type": "stream",
          "name": "stdout",
          "text": [
            "x_train examples: 1960\n",
            "x_test examples: 491\n",
            "x_val examples: 613\n"
          ]
        }
      ]
    },
    {
      "cell_type": "code",
      "source": [
        "count_classes=Counter(y_train)\n",
        "print(count_classes)\n",
        "\n",
        "max_count=max(count_classes.values())\n",
        "print(max_count)\n",
        "\n",
        "for k in count_classes.keys():\n",
        "  if count_classes[k]!=max_count:\n",
        "     augment_data(count_classes[k],max_count,k,x_train,y_train)\n",
        "\n",
        "print(Counter(y_train))"
      ],
      "metadata": {
        "colab": {
          "base_uri": "https://localhost:8080/"
        },
        "id": "DOgFUM0AKySF",
        "outputId": "0b1867f6-685d-4aa6-b001-cc1c1d2cfc07"
      },
      "execution_count": 74,
      "outputs": [
        {
          "output_type": "stream",
          "name": "stdout",
          "text": [
            "Counter({1: 913, 2: 590, 0: 457})\n",
            "913\n",
            "Counter({2: 913, 1: 913, 0: 913})\n"
          ]
        }
      ]
    },
    {
      "cell_type": "code",
      "source": [
        "from sklearn.preprocessing import LabelBinarizer\n",
        "lb = LabelBinarizer()\n",
        "y_train1 = lb.fit_transform(y_train)\n",
        "y_val1=lb.fit_transform(y_val)\n",
        "y_test1=lb.fit_transform(y_test)"
      ],
      "metadata": {
        "id": "v4qoWLYzKOx4"
      },
      "execution_count": 75,
      "outputs": []
    },
    {
      "cell_type": "code",
      "source": [
        "len(x_train)"
      ],
      "metadata": {
        "colab": {
          "base_uri": "https://localhost:8080/"
        },
        "id": "6-MTc8u7FORX",
        "outputId": "d19fe6af-8040-4b1b-dcc8-c5d9996b04c2"
      },
      "execution_count": 76,
      "outputs": [
        {
          "output_type": "execute_result",
          "data": {
            "text/plain": [
              "2739"
            ]
          },
          "metadata": {},
          "execution_count": 76
        }
      ]
    },
    {
      "cell_type": "code",
      "source": [
        "transform = T.Compose(\n",
        "    [T.ToPILImage(),\n",
        "     T.ToTensor(),\n",
        "     T.Normalize(mean=[0.485, 0.456, 0.406],\n",
        "                          std=[0.229, 0.224, 0.225])])\n"
      ],
      "metadata": {
        "id": "cTGyKM6hgH4B"
      },
      "execution_count": 77,
      "outputs": []
    },
    {
      "cell_type": "code",
      "source": [
        "class ImageDataset(Dataset):\n",
        "    def __init__(self, images, labels=None, transforms=None):\n",
        "        self.X = images\n",
        "        self.y = labels\n",
        "        self.transforms = transforms\n",
        "         \n",
        "    def __len__(self):\n",
        "        return (len(self.X))\n",
        "    \n",
        "    def __getitem__(self, i):\n",
        "        data = self.X[i][:]\n",
        "        \n",
        "        if self.transforms:\n",
        "            data = self.transforms(data)\n",
        "            \n",
        "        if self.y is not None:\n",
        "            return (data, self.y[i])\n",
        "        else:\n",
        "            return data\n",
        "        \n",
        "train_data = ImageDataset(x_train, y_train1, transform)\n",
        "val_data = ImageDataset(x_val, y_val1, transform)\n",
        "test_data = ImageDataset(x_test, y_test1, transform)"
      ],
      "metadata": {
        "id": "_v3I5YxmgxRk"
      },
      "execution_count": 78,
      "outputs": []
    },
    {
      "cell_type": "code",
      "source": [
        "BATCH_SIZE=15\n",
        "epochs=5\n",
        "trainloader = DataLoader(train_data, batch_size=BATCH_SIZE, shuffle=True)\n",
        "valloader = DataLoader(val_data, batch_size=BATCH_SIZE, shuffle=True)\n",
        "testloader = DataLoader(test_data, batch_size=BATCH_SIZE, shuffle=False)"
      ],
      "metadata": {
        "id": "cyFvqxp4hE7h"
      },
      "execution_count": 79,
      "outputs": []
    },
    {
      "cell_type": "code",
      "source": [
        "import torch\n",
        "import torch.nn as nn\n",
        "import torch.nn.functional as F\n",
        "\n",
        "\n",
        "class Net(nn.Module):\n",
        "\n",
        "    def __init__(self):\n",
        "        super(Net, self).__init__()\n",
        "        self.conv1 = nn.Conv2d(3, 6, 5)\n",
        "        self.pool = nn.MaxPool2d(2, 2)\n",
        "        self.conv2 = nn.Conv2d(6, 16, 5)\n",
        "        self.conv3 = nn.Conv2d(16, 32, 5)\n",
        "        #self.conv4 = nn.Conv2d(32,)\n",
        "        self.fc1 = nn.Linear(32 * 60 * 60 , 120)\n",
        "        self.fc2 = nn.Linear(120, 84)\n",
        "        self.fc3 = nn.Linear(84, 3)\n",
        "        # Define proportion or neurons to dropout\n",
        "        self.dropout = nn.Dropout(0.2)\n",
        "        self.dropout2 = nn.Dropout(0.1)\n",
        "\n",
        "    def forward(self, x):\n",
        "        # Max pooling over a (2, 2) window\n",
        "        x = self.pool(F.relu(self.conv1(x)))\n",
        "        x = self.pool(F.relu(self.conv2(x)))\n",
        "        x = self.pool(F.relu(self.conv3(x)))\n",
        "        x = self.dropout(x)\n",
        "        x = torch.flatten(x, 1) # flatten all dimensions except batch\n",
        "        x = F.relu(self.fc1(x))\n",
        "        x = self.dropout2(x)\n",
        "        x = F.relu(self.fc2(x))\n",
        "        x = self.dropout2(x)\n",
        "        x = self.fc3(x)\n",
        "        return F.log_softmax(x, dim = 1)\n",
        "\n",
        "\n",
        "net = Net()\n",
        "print(net)"
      ],
      "metadata": {
        "id": "LHizgl8QE7EH",
        "colab": {
          "base_uri": "https://localhost:8080/"
        },
        "outputId": "25c96334-3d99-4e0f-df4b-5b6b345391e0"
      },
      "execution_count": 80,
      "outputs": [
        {
          "output_type": "stream",
          "name": "stdout",
          "text": [
            "Net(\n",
            "  (conv1): Conv2d(3, 6, kernel_size=(5, 5), stride=(1, 1))\n",
            "  (pool): MaxPool2d(kernel_size=2, stride=2, padding=0, dilation=1, ceil_mode=False)\n",
            "  (conv2): Conv2d(6, 16, kernel_size=(5, 5), stride=(1, 1))\n",
            "  (conv3): Conv2d(16, 32, kernel_size=(5, 5), stride=(1, 1))\n",
            "  (fc1): Linear(in_features=115200, out_features=120, bias=True)\n",
            "  (fc2): Linear(in_features=120, out_features=84, bias=True)\n",
            "  (fc3): Linear(in_features=84, out_features=3, bias=True)\n",
            "  (dropout): Dropout(p=0.2, inplace=False)\n",
            "  (dropout2): Dropout(p=0.1, inplace=False)\n",
            ")\n"
          ]
        }
      ]
    },
    {
      "cell_type": "code",
      "source": [
        "o1=(512-5+0)/1 +1\n",
        "o2= o1//2\n",
        "o3= (o2-5+0)/1 +1\n",
        "o4= o3//2\n",
        "o5= (o4-5+0)/1 +1\n",
        "o6=o5//2\n"
      ],
      "metadata": {
        "id": "sxbKJzyRH0iy"
      },
      "execution_count": null,
      "outputs": []
    },
    {
      "cell_type": "code",
      "source": [
        "import torch.optim as optim\n",
        "import time\n",
        "from tqdm import tqdm\n",
        "\n",
        "model=Net()\n",
        "criterion = nn.CrossEntropyLoss()\n",
        "optimizer = optim.Adam(model.parameters(), lr=0.001)\n",
        "\n",
        "def fit(model, dataloader):\n",
        "    print('Training')\n",
        "    model.train()\n",
        "    running_loss = 0.0\n",
        "    running_correct = 0\n",
        "    for i, data in tqdm(enumerate(dataloader), total=int(len(train_data)/dataloader.batch_size)):\n",
        "        #print((data[1].size()))\n",
        "        data, target = data[0], data[1]\n",
        "        #print(torch.max(target,0))\n",
        "        optimizer.zero_grad()\n",
        "        outputs = model(data)\n",
        "        loss = criterion(outputs, torch.max(target,1)[1])\n",
        "        running_loss += loss.item()\n",
        "        _, preds = torch.max(outputs.data, 1)\n",
        "        running_correct += (preds == torch.max(target,1)[1]).sum().item()\n",
        "        loss.backward()\n",
        "        optimizer.step()\n",
        "        \n",
        "    loss = running_loss/len(dataloader.dataset)\n",
        "    accuracy = 100. * running_correct/len(dataloader.dataset)\n",
        "    \n",
        "    print(f\"Train Loss: {loss:.4f}, Train Acc: {accuracy:.2f}\")\n",
        "    \n",
        "    return loss, accuracy"
      ],
      "metadata": {
        "id": "i37fZKDOitr1"
      },
      "execution_count": 81,
      "outputs": []
    },
    {
      "cell_type": "code",
      "source": [
        "#validation function\n",
        "def validate(model, dataloader):\n",
        "    print('Validating')\n",
        "    model.eval()\n",
        "    running_loss = 0.0\n",
        "    running_correct = 0\n",
        "    with torch.no_grad():\n",
        "        for i, data in tqdm(enumerate(dataloader), total=int(len(val_data)/dataloader.batch_size)):\n",
        "            data, target = data[0], data[1]\n",
        "            outputs = model(data)\n",
        "            loss = criterion(outputs, torch.max(target, 1)[1])\n",
        "            \n",
        "            running_loss += loss.item()\n",
        "            _, preds = torch.max(outputs.data, 1)\n",
        "            running_correct += (preds == torch.max(target, 1)[1]).sum().item()\n",
        "        \n",
        "        loss = running_loss/len(dataloader.dataset)\n",
        "        accuracy = 100. * running_correct/len(dataloader.dataset)\n",
        "        print(f'Val Loss: {loss:.4f}, Val Acc: {accuracy:.2f}')\n",
        "        \n",
        "        return loss, accuracy\n",
        "    \n",
        "def test(model, dataloader):\n",
        "    correct = 0\n",
        "    total = 0\n",
        "    with torch.no_grad():\n",
        "        for data in testloader:\n",
        "            inputs, target = data[0], data[1]\n",
        "            outputs = model(inputs)\n",
        "            _, predicted = torch.max(outputs.data, 1)\n",
        "            total += target.size(0)\n",
        "            correct += (predicted == torch.max(target, 1)[1]).sum().item()\n",
        "    return correct, total"
      ],
      "metadata": {
        "id": "JvIMz9RiApYz"
      },
      "execution_count": 82,
      "outputs": []
    },
    {
      "cell_type": "code",
      "source": [
        "train_loss , train_accuracy = [], []\n",
        "val_loss , val_accuracy = [], []\n",
        "print(f\"Training on {len(train_data)} examples, validating on {len(val_data)} examples...\")\n",
        "start = time.time()\n",
        "for epoch in range(epochs):\n",
        "    print(f\"Epoch {epoch+1} of {epochs}\")\n",
        "    train_epoch_loss, train_epoch_accuracy = fit(model, trainloader)\n",
        "    val_epoch_loss, val_epoch_accuracy = validate(model, valloader)\n",
        "    train_loss.append(train_epoch_loss)\n",
        "    train_accuracy.append(train_epoch_accuracy)\n",
        "    val_loss.append(val_epoch_loss)\n",
        "    val_accuracy.append(val_epoch_accuracy)\n",
        "end = time.time()\n",
        "print((end-start)/60, 'minutes')"
      ],
      "metadata": {
        "colab": {
          "base_uri": "https://localhost:8080/"
        },
        "id": "O3V9knZJy1Ni",
        "outputId": "b7eb3af5-7782-4283-aabb-242db42595d8"
      },
      "execution_count": 83,
      "outputs": [
        {
          "output_type": "stream",
          "name": "stdout",
          "text": [
            "Training on 2739 examples, validating on 613 examples...\n",
            "Epoch 1 of 5\n",
            "Training\n"
          ]
        },
        {
          "output_type": "stream",
          "name": "stderr",
          "text": [
            "183it [04:27,  1.46s/it]\n"
          ]
        },
        {
          "output_type": "stream",
          "name": "stdout",
          "text": [
            "Train Loss: 0.0486, Train Acc: 64.99\n",
            "Validating\n"
          ]
        },
        {
          "output_type": "stream",
          "name": "stderr",
          "text": [
            "41it [00:24,  1.66it/s]\n"
          ]
        },
        {
          "output_type": "stream",
          "name": "stdout",
          "text": [
            "Val Loss: 0.0435, Val Acc: 69.82\n",
            "Epoch 2 of 5\n",
            "Training\n"
          ]
        },
        {
          "output_type": "stream",
          "name": "stderr",
          "text": [
            "183it [04:28,  1.47s/it]\n"
          ]
        },
        {
          "output_type": "stream",
          "name": "stdout",
          "text": [
            "Train Loss: 0.0294, Train Acc: 82.04\n",
            "Validating\n"
          ]
        },
        {
          "output_type": "stream",
          "name": "stderr",
          "text": [
            "41it [00:24,  1.67it/s]\n"
          ]
        },
        {
          "output_type": "stream",
          "name": "stdout",
          "text": [
            "Val Loss: 0.0253, Val Acc: 84.18\n",
            "Epoch 3 of 5\n",
            "Training\n"
          ]
        },
        {
          "output_type": "stream",
          "name": "stderr",
          "text": [
            "183it [04:23,  1.44s/it]\n"
          ]
        },
        {
          "output_type": "stream",
          "name": "stdout",
          "text": [
            "Train Loss: 0.0163, Train Acc: 90.62\n",
            "Validating\n"
          ]
        },
        {
          "output_type": "stream",
          "name": "stderr",
          "text": [
            "41it [00:25,  1.64it/s]\n"
          ]
        },
        {
          "output_type": "stream",
          "name": "stdout",
          "text": [
            "Val Loss: 0.0176, Val Acc: 88.91\n",
            "Epoch 4 of 5\n",
            "Training\n"
          ]
        },
        {
          "output_type": "stream",
          "name": "stderr",
          "text": [
            "183it [04:25,  1.45s/it]\n"
          ]
        },
        {
          "output_type": "stream",
          "name": "stdout",
          "text": [
            "Train Loss: 0.0101, Train Acc: 94.30\n",
            "Validating\n"
          ]
        },
        {
          "output_type": "stream",
          "name": "stderr",
          "text": [
            "41it [00:24,  1.70it/s]\n"
          ]
        },
        {
          "output_type": "stream",
          "name": "stdout",
          "text": [
            "Val Loss: 0.0162, Val Acc: 90.86\n",
            "Epoch 5 of 5\n",
            "Training\n"
          ]
        },
        {
          "output_type": "stream",
          "name": "stderr",
          "text": [
            "183it [04:24,  1.45s/it]\n"
          ]
        },
        {
          "output_type": "stream",
          "name": "stdout",
          "text": [
            "Train Loss: 0.0050, Train Acc: 97.19\n",
            "Validating\n"
          ]
        },
        {
          "output_type": "stream",
          "name": "stderr",
          "text": [
            "41it [00:24,  1.65it/s]"
          ]
        },
        {
          "output_type": "stream",
          "name": "stdout",
          "text": [
            "Val Loss: 0.0168, Val Acc: 91.84\n",
            "24.22954931259155 minutes\n"
          ]
        },
        {
          "output_type": "stream",
          "name": "stderr",
          "text": [
            "\n"
          ]
        }
      ]
    },
    {
      "cell_type": "code",
      "source": [
        "# accuracy plots\n",
        "plt.figure(figsize=(10, 7))\n",
        "plt.plot(train_accuracy, color='green', label='train accuracy')\n",
        "plt.plot(val_accuracy, color='blue', label='validation accuracy')\n",
        "plt.xlabel('Epochs')\n",
        "plt.ylabel('Accuracy')\n",
        "plt.legend()\n",
        "# loss plots\n",
        "plt.figure(figsize=(10, 7))\n",
        "plt.plot(train_loss, color='orange', label='train loss')\n",
        "plt.plot(val_loss, color='red', label='validation loss')\n",
        "plt.xlabel('Epochs')\n",
        "plt.ylabel('Loss')\n",
        "plt.legend()"
      ],
      "metadata": {
        "colab": {
          "base_uri": "https://localhost:8080/",
          "height": 885
        },
        "id": "KHRMvqCaEJrG",
        "outputId": "069326a1-5176-4fe8-eeb4-dc67af1e7332"
      },
      "execution_count": 84,
      "outputs": [
        {
          "output_type": "execute_result",
          "data": {
            "text/plain": [
              "<matplotlib.legend.Legend at 0x7f6ce07c5d50>"
            ]
          },
          "metadata": {},
          "execution_count": 84
        },
        {
          "output_type": "display_data",
          "data": {
            "text/plain": [
              "<Figure size 720x504 with 1 Axes>"
            ],
            "image/png": "[encoded data removed]"
          },
          "metadata": {
            "needs_background": "light"
          }
        },
        {
          "output_type": "display_data",
          "data": {
            "text/plain": [
              "<Figure size 720x504 with 1 Axes>"
            ],
            "image/png": "[encoded data removed]"
          },
          "metadata": {
            "needs_background": "light"
          }
        }
      ]
    },
    {
      "cell_type": "code",
      "source": [
        "class ConvEncoder(nn.Module):\n",
        "    def __init__(self):\n",
        "        super(ConvEncoder, self).__init__()\n",
        "        ## encoder layers ##\n",
        "        # conv layer (depth from 3 --> 32), 5x5 kernels\n",
        "        self.conv1 = nn.Conv2d(3, 32, 5,stride=3)  \n",
        "       \n",
        "        self.conv2 = nn.Conv2d(32, 16, 3,stride=2)\n",
        "        \n",
        "        self.conv3 = nn.Conv2d(16, 2, 3)\n",
        "        # pooling layer to reduce x-y dims by two; kernel and stride of 2\n",
        "        self.pool = nn.MaxPool2d(2, 2)\n",
        "        \n",
        "    \n",
        "    def forward(self, x):\n",
        "        ## encode ##\n",
        "        # add hidden layers with relu activation function\n",
        "        # and maxpooling after\n",
        "        x = F.relu(self.conv1(x))\n",
        "        x = self.pool(x)\n",
        "        # add second hidden layer\n",
        "        x = F.relu(self.conv2(x))\n",
        "        x = self.pool(x)  \n",
        "        x = F.relu(self.conv3(x))\n",
        "        x = self.pool(x)\n",
        "        x = torch.flatten(x) # compressed representation\n",
        "        return x\n",
        "        "
      ],
      "metadata": {
        "id": "si6Lx3LMhMrE"
      },
      "execution_count": 13,
      "outputs": []
    },
    {
      "cell_type": "code",
      "source": [
        "o1=(512-5+0)/3 +1\n",
        "o2= o1//2\n",
        "o3= (o2-3+0)/2 +1\n",
        "o4= o3//2\n",
        "o5= (o4-2+0)/1 +1\n",
        "o6=o5//2\n",
        "print(o6)"
      ],
      "metadata": {
        "colab": {
          "base_uri": "https://localhost:8080/"
        },
        "id": "xuPSDI9WhSUQ",
        "outputId": "9293bbd2-f595-4b85-d4f4-bc7b3c053636"
      },
      "execution_count": 41,
      "outputs": [
        {
          "output_type": "stream",
          "name": "stdout",
          "text": [
            "10.0\n"
          ]
        }
      ]
    },
    {
      "cell_type": "code",
      "source": [
        "model=ConvEncoder()\n",
        "x_train2=[]\n",
        "for x in x_train:\n",
        "  new_image=transform(x)\n",
        "  new_features=model(new_image)\n",
        "  #print(new_features.shape)\n",
        "  #new_features=torch.flatten(new_features)\n",
        "  new_features=new_features.detach().numpy()\n",
        "  x_train2.append(new_features)\n",
        "  #break"
      ],
      "metadata": {
        "id": "Hyl0IO1Hqzzd"
      },
      "execution_count": 43,
      "outputs": []
    },
    {
      "cell_type": "code",
      "source": [
        "x_val2=[]\n",
        "for x in x_val:\n",
        "  new_image=transform(x)\n",
        "  new_features=model(new_image)\n",
        "  #new_features=torch.flatten(new_features)\n",
        "  new_features=new_features.detach().numpy()\n",
        "  x_val2.append(new_features)"
      ],
      "metadata": {
        "id": "CG3_J3Gd_fw1"
      },
      "execution_count": 44,
      "outputs": []
    },
    {
      "cell_type": "code",
      "source": [
        "\n",
        "from sklearn.metrics import accuracy_score\n",
        "from sklearn.neighbors import KNeighborsClassifier\n",
        "def KNN(label,x_train,y_train,x_test,y_test,k):\n",
        "    \n",
        "    clf = KNeighborsClassifier(k)\n",
        "    \n",
        "    clf.fit(x_train,y_train)\n",
        "    \n",
        "    y_pred = clf.predict(x_test)\n",
        "    \n",
        "    print(\"Accuracy of {} KNN is %{}\".format(label,accuracy_score(y_pred=y_pred,y_true=y_test)))\n",
        "    \n",
        "    "
      ],
      "metadata": {
        "id": "ThT_muJt3LHy"
      },
      "execution_count": 33,
      "outputs": []
    },
    {
      "cell_type": "code",
      "source": [
        "KNN(\"Encoder+\",x_train2,y_train,x_val2,y_val,2)"
      ],
      "metadata": {
        "colab": {
          "base_uri": "https://localhost:8080/"
        },
        "id": "sLqmxuvvIFir",
        "outputId": "76984fe2-a75a-4ddd-dab3-61dfdd233d6f"
      },
      "execution_count": 45,
      "outputs": [
        {
          "output_type": "stream",
          "name": "stdout",
          "text": [
            "Accuracy of Encoder+ KNN is %0.8466557911908646\n"
          ]
        }
      ]
    },
    {
      "cell_type": "code",
      "source": [
        "from sklearn import svm\n",
        "from sklearn.metrics import accuracy_score\n",
        "from sklearn.metrics import f1_score\n",
        "rbf = svm.SVC(kernel='rbf', gamma=0.5, C=0.2).fit(x_train2, y_train)\n",
        "poly = svm.SVC(kernel='poly', degree=3, C=1.2).fit(x_train2, y_train)"
      ],
      "metadata": {
        "id": "A_4T41E0MyUV"
      },
      "execution_count": 46,
      "outputs": []
    },
    {
      "cell_type": "code",
      "source": [
        "poly_pred = poly.predict(x_val2)\n",
        "rbf_pred = rbf.predict(x_val2)"
      ],
      "metadata": {
        "id": "n-4UQuuW5_sz"
      },
      "execution_count": 47,
      "outputs": []
    },
    {
      "cell_type": "code",
      "source": [
        "poly_accuracy = accuracy_score(y_val, poly_pred)\n",
        "poly_f1 = f1_score(y_val, poly_pred, average='weighted')\n",
        "print('Accuracy (Polynomial Kernel): ', \"%.2f\" % (poly_accuracy*100))\n",
        "print('F1 (Polynomial Kernel): ', \"%.2f\" % (poly_f1*100))"
      ],
      "metadata": {
        "colab": {
          "base_uri": "https://localhost:8080/"
        },
        "id": "qErOSdmA6DtC",
        "outputId": "5e05e561-f0f5-4810-e87f-22e3f3a08b41"
      },
      "execution_count": 48,
      "outputs": [
        {
          "output_type": "stream",
          "name": "stdout",
          "text": [
            "Accuracy (Polynomial Kernel):  83.20\n",
            "F1 (Polynomial Kernel):  83.42\n"
          ]
        }
      ]
    },
    {
      "cell_type": "code",
      "source": [
        "rbf_accuracy = accuracy_score(y_val, rbf_pred)\n",
        "rbf_f1 = f1_score(y_val, rbf_pred, average='weighted')\n",
        "print('Accuracy (Rbf Kernel): ', \"%.2f\" % (rbf_accuracy*100))\n",
        "print('F1 (Rbf Kernel): ', \"%.2f\" % (rbf_f1*100))"
      ],
      "metadata": {
        "colab": {
          "base_uri": "https://localhost:8080/"
        },
        "id": "4XEIbhcW6Eb7",
        "outputId": "7679941a-733c-4ded-d7e7-f4a10d645cc8"
      },
      "execution_count": 49,
      "outputs": [
        {
          "output_type": "stream",
          "name": "stdout",
          "text": [
            "Accuracy (Rbf Kernel):  70.96\n",
            "F1 (Rbf Kernel):  70.59\n"
          ]
        }
      ]
    },
    {
      "cell_type": "code",
      "source": [
        "4"
      ],
      "metadata": {
        "id": "bWCFiVkp6Wgg"
      },
      "execution_count": null,
      "outputs": []
    }
  ]
}